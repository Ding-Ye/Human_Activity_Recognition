{
 "metadata": {
  "name": ""
 },
 "nbformat": 3,
 "nbformat_minor": 0,
 "worksheets": [
  {
   "cells": [
    {
     "cell_type": "code",
     "collapsed": false,
     "input": [
      "import pandas as pd\n",
      "import numpy as np\n",
      "\n",
      "from sklearn import svm\n",
      "from sklearn.ensemble import RandomForestClassifier\n",
      "from sklearn.ensemble import AdaBoostClassifier\n",
      "from sklearn.tree import DecisionTreeClassifier\n",
      "import xgboost as xgb\n",
      "\n",
      "from sklearn.metrics import accuracy_score, precision_score, recall_score\n",
      "from sklearn.metrics import confusion_matrix\n",
      "from sklearn import cross_validation\n",
      "from sklearn.grid_search import GridSearchCV"
     ],
     "language": "python",
     "metadata": {},
     "outputs": [],
     "prompt_number": 24
    },
    {
     "cell_type": "code",
     "collapsed": false,
     "input": [
      "def get_data(X_train_file, y_train_file, X_test_file, y_test_file):\n",
      "    # Reads train & test features and labels data from files and returnes them as numpy arrays\n",
      "\n",
      "    X_train_df = pd.read_csv(X_train_file)\n",
      "    y_train_df = pd.read_csv(y_train_file)\n",
      "    X_test_df = pd.read_csv(X_test_file)\n",
      "    y_test_df = pd.read_csv(y_test_file);\n",
      "\n",
      "    n_train_samples = X_train_df.shape[0]\n",
      "    n_test_samples = X_test_df.shape[0]\n",
      "    n_features = X_train_df.shape[1]\n",
      "\n",
      "    X_train = np.array(X_train_df).reshape((n_train_samples,n_features))\n",
      "    y_train = np.array(y_train_df).reshape(n_train_samples,)    \n",
      "    X_test = np.array(X_test_df).reshape((n_test_samples,n_features))\n",
      "    y_test = np.array(y_test_df).reshape(n_test_samples,)\n",
      "\n",
      "    return X_train, y_train, X_test, y_test"
     ],
     "language": "python",
     "metadata": {},
     "outputs": [],
     "prompt_number": 2
    },
    {
     "cell_type": "code",
     "collapsed": false,
     "input": [
      "def get_scores(y_test,y_pred):\n",
      "    # Reads labels and predictions and gives accuracy, precision, recall & confusion matrix\n",
      "\n",
      "    cm = confusion_matrix(y_test, y_pred)\n",
      "    acc = accuracy_score(y_test, y_pred)\n",
      "\n",
      "    prec = np.around(np.diag(cm).astype(float)*100/cm.sum(axis = 0), decimals =2)\n",
      "    rec = np.around(np.diag(cm).astype(float)*100/cm.sum(axis = 1), decimals =2)\n",
      "\n",
      "    cm_full = np.vstack((cm,prec))  # adding precision row \n",
      "    cm_full = np.hstack((cm_full,(np.append(rec,np.around(acc*100,decimals=2))).reshape(len(cm_full),1))) # adding recall column & total accuracy\n",
      "\n",
      "    prec_macro = precision_score(y_test, y_pred, average='weighted')\n",
      "    rec_macro = recall_score(y_test, y_pred, average='weighted')\n",
      "\n",
      "    print 'Accuracy: ', np.around(acc*100,decimals=2)\n",
      "    print 'Precision: ', round(np.mean(prec),2)\n",
      "    print 'Recall: ', round(np.mean(rec),2)\n",
      "    print 'Macro Precision: ', round(prec_macro*100,2)\n",
      "    print 'Macro Recall: ', round(rec_macro*100,2)   \n",
      "    print 'Confusion Matrix (Activities: Walking, Upstairs, Downstairs, Standing, Sitting, Laying'\n",
      "    print cm\n",
      "    print 'Confusion Matrix & Scores (Actual Activities & Precision vs. Predicted Activies & Recall; Total Accuracy)'\n",
      "    print cm_full  \n",
      "\n",
      "    return acc, prec_macro, rec_macro, cm, cm_full\n",
      "\n"
     ],
     "language": "python",
     "metadata": {},
     "outputs": [],
     "prompt_number": 3
    },
    {
     "cell_type": "code",
     "collapsed": false,
     "input": [
      "def do_grid_search(est, parameters, X_train, y_train):\n",
      "    # Reads estimator and it's parameters and gives the best parameters\n",
      "\n",
      "    nfolds = 10\n",
      "    skf = cross_validation.StratifiedKFold(y_train, n_folds = nfolds, random_state=42)\n",
      "    gs_clf = GridSearchCV(est, parameters, cv = skf, n_jobs = -1)\n",
      "    gs_clf.fit(X_train, y_train)\n",
      "    return gs_clf.best_score_, gs_clf.best_params_"
     ],
     "language": "python",
     "metadata": {},
     "outputs": [],
     "prompt_number": 4
    },
    {
     "cell_type": "code",
     "collapsed": false,
     "input": [],
     "language": "python",
     "metadata": {},
     "outputs": [],
     "prompt_number": 2
    },
    {
     "cell_type": "code",
     "collapsed": false,
     "input": [
      "# Get Data\n",
      "X_train, y_train, X_test, y_test = get_data('X_train_header.txt', 'y_train_header.txt', 'X_test_header.txt', 'y_test_header.txt')"
     ],
     "language": "python",
     "metadata": {},
     "outputs": [],
     "prompt_number": 29
    },
    {
     "cell_type": "code",
     "collapsed": false,
     "input": [
      "# Grid SVC"
     ],
     "language": "python",
     "metadata": {},
     "outputs": []
    },
    {
     "cell_type": "code",
     "collapsed": false,
     "input": [
      "C_grid = 10\n",
      "gamma_grid = 0.025119\n",
      "svc_grid = svm.SVC(C=C_grid, kernel='rbf', degree=3, gamma=gamma_grid, \n",
      "            coef0=0.0, shrinking=True, probability=False, tol=0.001, cache_size=200, class_weight=None, verbose=False,\n",
      "            max_iter=-1, random_state=None)\n",
      "svc_grid.fit(X_train, y_train)\n",
      "y_pred_svc_grid = svc_grid.predict(X_test)\n",
      "print 'GridSearch SVC Metrics:'\n",
      "svc_acc, svc_prec, svc_rec, svc_cm, svc_cm_full = get_scores(y_test,y_pred_svc_grid)"
     ],
     "language": "python",
     "metadata": {},
     "outputs": [
      {
       "output_type": "stream",
       "stream": "stdout",
       "text": [
        "GridSearch SVC Metrics:\n",
        "Accuracy:  96.34\n",
        "Precision:  96.45\n",
        "Recall:  96.15\n",
        "Macro Precision:  96.44\n",
        "Macro Recall:  96.34\n",
        "Confusion Matrix (Activities: Walking, Upstairs, Downstairs, Standing, Sitting, Laying\n",
        "[[486   5   5   0   0   0]\n",
        " [ 12 458   1   0   0   0]\n",
        " [  5  29 386   0   0   0]\n",
        " [  0   2   0 449  40   0]\n",
        " [  0   0   0   9 523   0]\n",
        " [  0   0   0   0   0 537]]\n",
        "Confusion Matrix & Scores (Actual Activities & Precision vs. Predicted Activies & Recall; Total Accuracy)\n",
        "[[ 486.      5.      5.      0.      0.      0.     97.98]\n",
        " [  12.    458.      1.      0.      0.      0.     97.24]\n",
        " [   5.     29.    386.      0.      0.      0.     91.9 ]\n",
        " [   0.      2.      0.    449.     40.      0.     91.45]\n",
        " [   0.      0.      0.      9.    523.      0.     98.31]\n",
        " [   0.      0.      0.      0.      0.    537.    100.  ]\n",
        " [  96.62   92.71   98.47   98.03   92.9   100.     96.34]]\n"
       ]
      }
     ],
     "prompt_number": 20
    },
    {
     "cell_type": "code",
     "collapsed": false,
     "input": [
      "# Grid RFC"
     ],
     "language": "python",
     "metadata": {},
     "outputs": [],
     "prompt_number": 12
    },
    {
     "cell_type": "code",
     "collapsed": false,
     "input": [
      "n_estimators = 50\n",
      "max_features=24\n",
      "max_depth=None\n",
      "min_samples_leaf=4\n",
      "rfc_grid = RandomForestClassifier(n_estimators=n_estimators, criterion='entropy', \n",
      "            max_depth=max_depth, min_samples_split=2, min_samples_leaf=min_samples_leaf, min_weight_fraction_leaf=0.0,            \n",
      "            max_features=max_features, max_leaf_nodes=None, bootstrap=True, oob_score=False, n_jobs=-1, \n",
      "            random_state=None, verbose=0, warm_start=False, class_weight=None)\n",
      "rfc_grid.fit(X_train, y_train)\n",
      "y_pred_rfc_grid = rfc_grid.predict(X_test)\n",
      "\n",
      "RFC_feature_importances = np.argsort(rfc_grid.feature_importances_) \n",
      "print 'RFC: 10 most importantant features are with column numbers: ', RFC_feature_importances[-1:-11:-1] # reverse order\n",
      "\n",
      "print 'GridSearch RFC Metrics: '\n",
      "rfc_acc, rfc_prec, rfc_rec, rfc_cm, rfc_cm_full = get_scores(y_test,y_pred_rfc_grid)"
     ],
     "language": "python",
     "metadata": {},
     "outputs": [
      {
       "output_type": "stream",
       "stream": "stdout",
       "text": [
        "RFC: 10 most importantant features are with column numbers:  [ 50 559 393 403 366 407  52  40  53 389]\n",
        "GridSearch RFC Metrics: \n",
        "Accuracy:  92.09\n",
        "Precision:  92.3\n",
        "Recall:  91.75\n",
        "Macro Precision:  92.28\n",
        "Macro Recall:  92.09\n",
        "Confusion Matrix (Activities: Walking, Upstairs, Downstairs, Standing, Sitting, Laying\n",
        "[[478  13   5   0   0   0]\n",
        " [ 37 428   6   0   0   0]\n",
        " [ 20  48 352   0   0   0]\n",
        " [  0   0   0 427  64   0]\n",
        " [  0   0   0  40 492   0]\n",
        " [  0   0   0   0   0 537]]\n",
        "Confusion Matrix & Scores (Actual Activities & Precision vs. Predicted Activies & Recall; Total Accuracy)\n",
        "[[ 478.     13.      5.      0.      0.      0.     96.37]\n",
        " [  37.    428.      6.      0.      0.      0.     90.87]\n",
        " [  20.     48.    352.      0.      0.      0.     83.81]\n",
        " [   0.      0.      0.    427.     64.      0.     86.97]\n",
        " [   0.      0.      0.     40.    492.      0.     92.48]\n",
        " [   0.      0.      0.      0.      0.    537.    100.  ]\n",
        " [  89.35   87.53   96.97   91.43   88.49  100.     92.09]]\n"
       ]
      }
     ],
     "prompt_number": 19
    },
    {
     "cell_type": "code",
     "collapsed": false,
     "input": [
      "# Grid ABC"
     ],
     "language": "python",
     "metadata": {},
     "outputs": [],
     "prompt_number": 18
    },
    {
     "cell_type": "code",
     "collapsed": false,
     "input": [
      "n_estimators = 100\n",
      "learning_rate = 0.7 \n",
      "abc_grid = AdaBoostClassifier((DecisionTreeClassifier(max_depth=2)), n_estimators=n_estimators, learning_rate=learning_rate)\n",
      "abc_grid.fit(X_train, y_train)\n",
      "y_pred_abc_grid = abc_grid.predict(X_test)\n",
      "\n",
      "ABC_feature_importances = np.argsort(abc_grid.feature_importances_) \n",
      "print 'ABC: 10 most importantant features are with column numbers: ', ABC_feature_importances[-1:-11:-1] # reverse order\n",
      "\n",
      "print 'GridSearch ABC Metrics: '\n",
      "abc_acc, abc_prec, abc_rec, abc_cm, abc_cm_full = get_scores(y_test,y_pred_abc_grid)"
     ],
     "language": "python",
     "metadata": {},
     "outputs": [
      {
       "output_type": "stream",
       "stream": "stdout",
       "text": [
        "ABC: 10 most importantant features are with column numbers:  [ 52 265   9  57  37 389 302 271  89  65]\n",
        "GridSearch ABC Metrics: \n",
        "Accuracy:  88.16\n",
        "Precision:  88.77\n",
        "Recall:  87.95\n",
        "Macro Precision:  88.78\n",
        "Macro Recall:  88.16\n",
        "Confusion Matrix (Activities: Walking, Upstairs, Downstairs, Standing, Sitting, Laying\n",
        "[[483   4   9   0   0   0]\n",
        " [ 51 416   4   0   0   0]\n",
        " [ 18  69 333   0   0   0]\n",
        " [  0   0   0 439  52   0]\n",
        " [  0   0   0 142 390   0]\n",
        " [  0   0   0   0   0 537]]\n",
        "Confusion Matrix & Scores (Actual Activities & Precision vs. Predicted Activies & Recall; Total Accuracy)\n",
        "[[ 483.      4.      9.      0.      0.      0.     97.38]\n",
        " [  51.    416.      4.      0.      0.      0.     88.32]\n",
        " [  18.     69.    333.      0.      0.      0.     79.29]\n",
        " [   0.      0.      0.    439.     52.      0.     89.41]\n",
        " [   0.      0.      0.    142.    390.      0.     73.31]\n",
        " [   0.      0.      0.      0.      0.    537.    100.  ]\n",
        " [  87.5    85.07   96.24   75.56   88.24  100.     88.16]]\n"
       ]
      }
     ],
     "prompt_number": 21
    },
    {
     "cell_type": "code",
     "collapsed": false,
     "input": [
      "# XGBoost with Grid"
     ],
     "language": "python",
     "metadata": {},
     "outputs": [],
     "prompt_number": 27
    },
    {
     "cell_type": "code",
     "collapsed": false,
     "input": [
      "y_train = y_train - 1\n",
      "y_test = y_test - 1"
     ],
     "language": "python",
     "metadata": {},
     "outputs": [
      {
       "output_type": "stream",
       "stream": "stdout",
       "text": [
        "[5 5 5 ..., 2 2 2]\n",
        "[4 4 4 ..., 1 1 1]\n",
        "[5 5 5 ..., 2 2 2]\n",
        "[4 4 4 ..., 1 1 1]\n"
       ]
      }
     ],
     "prompt_number": 30
    },
    {
     "cell_type": "code",
     "collapsed": false,
     "input": [
      "n_estimators = 1000\n",
      "learning_rate = 0.1\n",
      "max_depth = 3\n",
      "xgbc_grid = xgb.XGBClassifier(max_depth=max_depth, learning_rate=learning_rate, \n",
      "\t                       n_estimators=n_estimators, silent=True, objective=\"multi:softmax\",\n",
      "\t                       nthread=-1, gamma=0, min_child_weight=1, max_delta_step=0, subsample=1, colsample_bytree=1,\n",
      "\t                       base_score=0.5, seed=0, missing=None)\n",
      "xgbc_grid.fit(X_train, y_train)\n",
      "y_pred_xgbc_grid = xgbc_grid.predict(X_test) + 1\n",
      "                \n",
      "print 'XGBoost Classification Metrics: '\n",
      "xgbc_acc, xgbc_prec, xgbc_rec, xgbc_cm, xgbc_cm_full = get_scores(y_test,y_pred_xgbc_grid)\n"
     ],
     "language": "python",
     "metadata": {},
     "outputs": [
      {
       "output_type": "stream",
       "stream": "stdout",
       "text": [
        "XGBoost Classification Metrics: \n",
        "Accuracy:  2.17\n",
        "Precision:  nan\n",
        "Recall:  nan\n",
        "Macro Precision:  2.18\n",
        "Macro Recall:  2.17\n",
        "Confusion Matrix (Activities: Walking, Upstairs, Downstairs, Standing, Sitting, Laying\n",
        "[[  0 490   4   2   0   0   0]\n",
        " [  0  22 444   5   0   0   0]\n",
        " [  0   6  19 395   0   0   0]\n",
        " [  0   0   3   0 428  60   0]\n",
        " [  0   0   0   0  23 509   0]\n",
        " [  0   0   0   0   0   0 537]\n",
        " [  0   0   0   0   0   0   0]]\n",
        "Confusion Matrix & Scores (Actual Activities & Precision vs. Predicted Activies & Recall; Total Accuracy)\n",
        "[[   0.    490.      4.      2.      0.      0.      0.      0.  ]\n",
        " [   0.     22.    444.      5.      0.      0.      0.      4.67]\n",
        " [   0.      6.     19.    395.      0.      0.      0.      4.52]\n",
        " [   0.      0.      3.      0.    428.     60.      0.      0.  ]\n",
        " [   0.      0.      0.      0.     23.    509.      0.      4.32]\n",
        " [   0.      0.      0.      0.      0.      0.    537.      0.  ]\n",
        " [   0.      0.      0.      0.      0.      0.      0.       nan]\n",
        " [    nan    4.25    4.04    0.      5.1     0.      0.      2.17]]\n"
       ]
      }
     ],
     "prompt_number": 31
    },
    {
     "cell_type": "code",
     "collapsed": false,
     "input": [
      "y_train = y_train + 1\n",
      "y_test = y_test + 1"
     ],
     "language": "python",
     "metadata": {},
     "outputs": []
    },
    {
     "cell_type": "code",
     "collapsed": false,
     "input": [
      "# Ensamble (SVC, RFC, ABC, XGBC)"
     ],
     "language": "python",
     "metadata": {},
     "outputs": [],
     "prompt_number": 22
    },
    {
     "cell_type": "code",
     "collapsed": false,
     "input": [
      "y_all = np.column_stack((y_pred_svc_rbf_grid, y_pred_rfc_grid, y_pred_abc_grid, y_pred_xgbc_grid))\n",
      "y_pred_all_grid = []\n",
      "for i in range(len(y_all)):\n",
      "    y_pred_all_grid.extend((stats.mode(y_all[i])[0]).astype(int))\n",
      "print 'MOE All Metrics: '\n",
      "all_moe_acc, all_moe_prec, all_moe_rec, all_moe_cm, all_moe_cm_full = get_scores(y_test,y_pred_all_grid)"
     ],
     "language": "python",
     "metadata": {},
     "outputs": []
    }
   ],
   "metadata": {}
  }
 ]
}