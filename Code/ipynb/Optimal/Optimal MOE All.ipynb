{
 "metadata": {
  "name": ""
 },
 "nbformat": 3,
 "nbformat_minor": 0,
 "worksheets": [
  {
   "cells": [
    {
     "cell_type": "code",
     "collapsed": false,
     "input": [
      "import pandas as pd\n",
      "import numpy as np\n",
      "from scipy import stats\n",
      "\n",
      "from sklearn import svm\n",
      "from sklearn.ensemble import RandomForestClassifier\n",
      "from sklearn.ensemble import AdaBoostClassifier\n",
      "from sklearn.tree import DecisionTreeClassifier\n",
      "import xgboost as xgb\n",
      "\n",
      "from sklearn.metrics import accuracy_score, precision_score, recall_score\n",
      "from sklearn.metrics import confusion_matrix\n",
      "from sklearn import cross_validation\n",
      "\n",
      "from moe.easy_interface.experiment import Experiment\n",
      "from moe.easy_interface.simple_endpoint import gp_next_points\n",
      "from moe.optimal_learning.python.data_containers import SamplePoint"
     ],
     "language": "python",
     "metadata": {},
     "outputs": [],
     "prompt_number": 43
    },
    {
     "cell_type": "code",
     "collapsed": false,
     "input": [
      "def get_data(X_train_file, y_train_file, X_test_file, y_test_file):\n",
      "    # Reads train & test features and labels data from files and returnes them as numpy arrays\n",
      "\n",
      "    X_train_df = pd.read_csv(X_train_file)\n",
      "    y_train_df = pd.read_csv(y_train_file)\n",
      "    X_test_df = pd.read_csv(X_test_file)\n",
      "    y_test_df = pd.read_csv(y_test_file);\n",
      "\n",
      "    n_train_samples = X_train_df.shape[0]\n",
      "    n_test_samples = X_test_df.shape[0]\n",
      "    n_features = X_train_df.shape[1]\n",
      "\n",
      "    X_train = np.array(X_train_df).reshape((n_train_samples,n_features))\n",
      "    y_train = np.array(y_train_df).reshape(n_train_samples,)    \n",
      "    X_test = np.array(X_test_df).reshape((n_test_samples,n_features))\n",
      "    y_test = np.array(y_test_df).reshape(n_test_samples,)\n",
      "\n",
      "    return X_train, y_train, X_test, y_test"
     ],
     "language": "python",
     "metadata": {},
     "outputs": [],
     "prompt_number": 44
    },
    {
     "cell_type": "code",
     "collapsed": false,
     "input": [
      "def get_scores(y_test,y_pred):\n",
      "    # Reads labels and predictions and gives accuracy, precision, recall & confusion matrix\n",
      "\n",
      "    cm = confusion_matrix(y_test, y_pred)\n",
      "    acc = accuracy_score(y_test, y_pred)\n",
      "\n",
      "    prec = np.around(np.diag(cm).astype(float)*100/cm.sum(axis = 0), decimals =2)\n",
      "    rec = np.around(np.diag(cm).astype(float)*100/cm.sum(axis = 1), decimals =2)\n",
      "\n",
      "    cm_full = np.vstack((cm,prec))  # adding precision row \n",
      "    cm_full = np.hstack((cm_full,(np.append(rec,np.around(acc*100,decimals=2))).reshape(len(cm_full),1))) # adding recall column & total accuracy\n",
      "\n",
      "    prec_macro = precision_score(y_test, y_pred, average='weighted')\n",
      "    rec_macro = recall_score(y_test, y_pred, average='weighted')  \n",
      "    \n",
      "    print 'Accuracy: ', np.around(acc*100,decimals=2)\n",
      "    print 'Precision: ', round(np.mean(prec),2)\n",
      "    print 'Recall: ', round(np.mean(rec),2)\n",
      "    print 'Macro Precision: ', round(prec_macro*100,2)\n",
      "    print 'Macro Recall: ', round(rec_macro*100,2)   \n",
      "    print 'Confusion Matrix (Activities: Walking, Upstairs, Downstairs, Standing, Sitting, Laying'\n",
      "    print cm\n",
      "    print 'Confusion Matrix & Scores (Actual Activities & Precision vs. Predicted Activies & Recall; Total Accuracy)'\n",
      "    print cm_full  \n",
      "\n",
      "    return acc, prec_macro, rec_macro, cm, cm_full"
     ],
     "language": "python",
     "metadata": {},
     "outputs": [],
     "prompt_number": 45
    },
    {
     "cell_type": "code",
     "collapsed": false,
     "input": [
      "    # Get Data\n",
      "    X_train, y_train, X_test, y_test = get_data('X_train_header.txt', 'y_train_header.txt', 'X_test_header.txt', 'y_test_header.txt')\n",
      "    "
     ],
     "language": "python",
     "metadata": {},
     "outputs": [],
     "prompt_number": 47
    },
    {
     "cell_type": "code",
     "collapsed": false,
     "input": [
      "#SVC RBF with MOE"
     ],
     "language": "python",
     "metadata": {},
     "outputs": [],
     "prompt_number": 11
    },
    {
     "cell_type": "code",
     "collapsed": false,
     "input": [
      "C_rbf_moe = 9717.03\n",
      "gamma_rbf_moe = 0.0193\n",
      "svc_rbf_moe = svm.SVC(C=C_rbf_moe, kernel='rbf', degree=3, gamma=gamma_rbf_moe, \n",
      "            coef0=0.0, shrinking=True, probability=False, tol=0.001, cache_size=200, class_weight=None, verbose=False,\n",
      "            max_iter=-1, random_state=None)\n",
      "svc_rbf_moe.fit(X_train, y_train)\n",
      "y_pred_svc_rbf_moe = svc_rbf_moe.predict(X_test)\n",
      "print 'MOE SVC RBF Metrics:'\n",
      "svc_rbf_moe_acc, svc_rbf_moe_prec, svc_rbf_moe_rec, svc_rbf_moe_cm, svc_rbf_moe_cm_full = get_scores(y_test,y_pred_svc_rbf_moe)\n"
     ],
     "language": "python",
     "metadata": {},
     "outputs": [
      {
       "output_type": "stream",
       "stream": "stdout",
       "text": [
        "MOE SVC RBF Metrics:\n",
        "Accuracy:  96.5\n",
        "Precision:  96.64\n",
        "Recall:  96.33\n",
        "Macro Precision:  96.61\n",
        "Macro Recall:  96.5\n",
        "Confusion Matrix (Activities: Walking, Upstairs, Downstairs, Standing, Sitting, Laying\n",
        "[[487   6   3   0   0   0]\n",
        " [ 12 457   2   0   0   0]\n",
        " [  5  26 389   0   0   0]\n",
        " [  0   2   0 449  40   0]\n",
        " [  0   0   0   7 525   0]\n",
        " [  0   0   0   0   0 537]]\n",
        "Confusion Matrix & Scores (Actual Activities & Precision vs. Predicted Activies & Recall; Total Accuracy)\n",
        "[[ 487.      6.      3.      0.      0.      0.     98.19]\n",
        " [  12.    457.      2.      0.      0.      0.     97.03]\n",
        " [   5.     26.    389.      0.      0.      0.     92.62]\n",
        " [   0.      2.      0.    449.     40.      0.     91.45]\n",
        " [   0.      0.      0.      7.    525.      0.     98.68]\n",
        " [   0.      0.      0.      0.      0.    537.    100.  ]\n",
        " [  96.63   93.08   98.73   98.46   92.92  100.     96.5 ]]\n"
       ]
      }
     ],
     "prompt_number": 12
    },
    {
     "cell_type": "code",
     "collapsed": false,
     "input": [
      "# RFC with MOE"
     ],
     "language": "python",
     "metadata": {},
     "outputs": []
    },
    {
     "cell_type": "code",
     "collapsed": false,
     "input": [
      "n_estimators = 859\n",
      "max_features = 17 \n",
      "max_depth = 10\n",
      "min_samples_leaf = 3\n",
      "rfc_moe = RandomForestClassifier(n_estimators=n_estimators, criterion='gini', \n",
      "            max_depth=max_depth, min_samples_split=2, min_samples_leaf=min_samples_leaf, min_weight_fraction_leaf=0.0,            \n",
      "            max_features=max_features, max_leaf_nodes=None, bootstrap=True, oob_score=False, n_jobs=1, \n",
      "            random_state=None, verbose=0, warm_start=False, class_weight=None)\n",
      "rfc_moe.fit(X_train, y_train)\n",
      "y_pred_rfc_moe = rfc_moe.predict(X_test)\n",
      "print 'MOE RFC Metrics: '\n",
      "rfc_moe_acc, rfc_moe_prec, rfc_moe_rec, rfc_moe_cm, rfc_moe_cm_full = get_scores(y_test,y_pred_rfc_moe)\n"
     ],
     "language": "python",
     "metadata": {},
     "outputs": [
      {
       "output_type": "stream",
       "stream": "stdout",
       "text": [
        "MOE RFC Metrics: \n",
        "Accuracy:  92.98\n",
        "Precision:  93.13\n",
        "Recall:  92.59\n",
        "Macro Precision:  93.14\n",
        "Macro Recall:  92.98\n",
        "Confusion Matrix (Activities: Walking, Upstairs, Downstairs, Standing, Sitting, Laying\n",
        "[[484   4   8   0   0   0]\n",
        " [ 34 431   6   0   0   0]\n",
        " [ 27  44 349   0   0   0]\n",
        " [  0   0   0 438  53   0]\n",
        " [  0   0   0  31 501   0]\n",
        " [  0   0   0   0   0 537]]\n",
        "Confusion Matrix & Scores (Actual Activities & Precision vs. Predicted Activies & Recall; Total Accuracy)\n",
        "[[ 484.      4.      8.      0.      0.      0.     97.58]\n",
        " [  34.    431.      6.      0.      0.      0.     91.51]\n",
        " [  27.     44.    349.      0.      0.      0.     83.1 ]\n",
        " [   0.      0.      0.    438.     53.      0.     89.21]\n",
        " [   0.      0.      0.     31.    501.      0.     94.17]\n",
        " [   0.      0.      0.      0.      0.    537.    100.  ]\n",
        " [  88.81   89.98   96.14   93.39   90.43  100.     92.98]]\n"
       ]
      }
     ],
     "prompt_number": 13
    },
    {
     "cell_type": "code",
     "collapsed": false,
     "input": [
      "# ABC with MOE"
     ],
     "language": "python",
     "metadata": {},
     "outputs": []
    },
    {
     "cell_type": "code",
     "collapsed": false,
     "input": [
      "n_estimators = 1000\n",
      "learning_rate = 1 \n",
      "abc_moe = AdaBoostClassifier((DecisionTreeClassifier(max_depth=2)),n_estimators=n_estimators, learning_rate=learning_rate)\n",
      "abc_moe.fit(X_train, y_train)\n",
      "y_pred_abc_moe = abc_moe.predict(X_test)\n",
      "print 'MOE ABC Metrics: '\n",
      "abc_moe_acc, abc_moe_prec, abc_moe_rec, abc_moe_cm, abc_moe_cm_full = get_scores(y_test,y_pred_abc_moe)"
     ],
     "language": "python",
     "metadata": {},
     "outputs": [
      {
       "output_type": "stream",
       "stream": "stdout",
       "text": [
        "MOE ABC Metrics: \n",
        "Accuracy:  91.55\n",
        "Precision:  91.65\n",
        "Recall:  91.13\n",
        "Macro Precision:  91.72\n",
        "Macro Recall:  91.55\n",
        "Confusion Matrix (Activities: Walking, Upstairs, Downstairs, Standing, Sitting, Laying\n",
        "[[476   3  17   0   0   0]\n",
        " [ 68 399   4   0   0   0]\n",
        " [  8  61 351   0   0   0]\n",
        " [  0   0   0 433  58   0]\n",
        " [  0   0   0  30 502   0]\n",
        " [  0   0   0   0   0 537]]\n",
        "Confusion Matrix & Scores (Actual Activities & Precision vs. Predicted Activies & Recall; Total Accuracy)\n",
        "[[ 476.      3.     17.      0.      0.      0.     95.97]\n",
        " [  68.    399.      4.      0.      0.      0.     84.71]\n",
        " [   8.     61.    351.      0.      0.      0.     83.57]\n",
        " [   0.      0.      0.    433.     58.      0.     88.19]\n",
        " [   0.      0.      0.     30.    502.      0.     94.36]\n",
        " [   0.      0.      0.      0.      0.    537.    100.  ]\n",
        " [  86.23   86.18   94.35   93.52   89.64  100.     91.55]]\n"
       ]
      }
     ],
     "prompt_number": 17
    },
    {
     "cell_type": "code",
     "collapsed": false,
     "input": [
      "# XGBoost MOE"
     ],
     "language": "python",
     "metadata": {},
     "outputs": []
    },
    {
     "cell_type": "code",
     "collapsed": false,
     "input": [
      "    y_train = y_train - 1\n",
      "    y_test = y_test - 1\n",
      "    xg_train = xgb.DMatrix(X_train, label=y_train)\n",
      "    xg_test = xgb.DMatrix(X_test, label=y_test)"
     ],
     "language": "python",
     "metadata": {},
     "outputs": [],
     "prompt_number": 95
    },
    {
     "cell_type": "code",
     "collapsed": false,
     "input": [
      "    xgb_parameters = {}\n",
      "    xgb_parameters['objective'] = 'multi:softmax'\n",
      "    xgb_parameters['silent'] = 1\n",
      "    xgb_parameters['nthread'] = 4\n",
      "    xgb_parameters['num_class'] = 6  \n",
      "    xgb_parameters['learning_rate'] = 0.3875\n",
      "    xgb_parameters['n_estimators'] = 1000\n",
      "    xgb_parameters['max_depth'] = 1"
     ],
     "language": "python",
     "metadata": {},
     "outputs": [],
     "prompt_number": 9
    },
    {
     "cell_type": "code",
     "collapsed": false,
     "input": [
      "    xgbc_moe = xgb.XGBClassifier(max_depth=xgb_parameters['max_depth'], learning_rate=xgb_parameters['learning_rate'], \n",
      "\t\t\t     n_estimators=xgb_parameters['n_estimators'], silent=True, objective=\"multi:softmax\",\n",
      "\t\t\t     nthread=-1, gamma=0, min_child_weight=1, max_delta_step=0, subsample=1, colsample_bytree=1,\n",
      "\t\t\t     base_score=0.5, seed=0, missing=None)       \n",
      "    xgbc_moe.fit(X_train, y_train)\n",
      "    y_pred_xgbc_moe = xgbc_moe.predict(X_test) + 1\n",
      "    \n",
      "    print 'XGBoost Classification MOE Metrics: '\n",
      "    xgbc_moe_acc, xgbc_moe_prec, xgbc_moe_rec, xgbc_moe_cm, xgbc_moe_cm_full = get_scores(y_test + 1, y_pred_xgbc_moe)"
     ],
     "language": "python",
     "metadata": {},
     "outputs": [
      {
       "output_type": "stream",
       "stream": "stdout",
       "text": [
        "XGBoost Classification MOE Metrics: \n",
        "Accuracy:  95.76\n",
        "Precision:  95.86\n",
        "Recall:  95.65\n",
        "Macro Precision:  95.81\n",
        "Macro Recall:  95.76\n",
        "Confusion Matrix (Activities: Walking, Upstairs, Downstairs, Standing, Sitting, Laying\n",
        "[[491   3   2   0   0   0]\n",
        " [ 26 441   4   0   0   0]\n",
        " [  6  16 398   0   0   0]\n",
        " [  0   2   0 446  43   0]\n",
        " [  0   0   0  23 509   0]\n",
        " [  0   0   0   0   0 537]]\n",
        "Confusion Matrix & Scores (Actual Activities & Precision vs. Predicted Activies & Recall; Total Accuracy)\n",
        "[[ 491.      3.      2.      0.      0.      0.     98.99]\n",
        " [  26.    441.      4.      0.      0.      0.     93.63]\n",
        " [   6.     16.    398.      0.      0.      0.     94.76]\n",
        " [   0.      2.      0.    446.     43.      0.     90.84]\n",
        " [   0.      0.      0.     23.    509.      0.     95.68]\n",
        " [   0.      0.      0.      0.      0.    537.    100.  ]\n",
        " [  93.88   95.45   98.51   95.1    92.21  100.     95.76]]\n"
       ]
      }
     ],
     "prompt_number": 10
    },
    {
     "cell_type": "code",
     "collapsed": false,
     "input": [
      "# Ensamble (SVC, RFC, ABC, XGBC)"
     ],
     "language": "python",
     "metadata": {},
     "outputs": []
    },
    {
     "cell_type": "code",
     "collapsed": false,
     "input": [
      "y_all = np.column_stack((y_pred_svc_rbf_moe, y_pred_rfc_moe, y_pred_abc_moe, y_pred_xgbc_moe))\n",
      "y_pred_all_moe = []\n",
      "for i in range(len(y_all)):\n",
      "    y_pred_all_moe.extend((stats.mode(y_all[i])[0]).astype(int))\n",
      "print 'MOE All Metrics: '\n",
      "all_moe_acc, all_moe_prec, all_moe_rec, all_moe_cm, all_moe_cm_full = get_scores(y_test,y_pred_all_moe)"
     ],
     "language": "python",
     "metadata": {},
     "outputs": [
      {
       "output_type": "stream",
       "stream": "stdout",
       "text": [
        "MOE All Metrics: \n",
        "Accuracy:  94.77\n",
        "Precision:  94.89\n",
        "Recall:  94.45\n",
        "Macro Precision:  94.9\n",
        "Macro Recall:  94.77\n",
        "Confusion Matrix (Activities: Walking, Upstairs, Downstairs, Standing, Sitting, Laying\n",
        "[[494   0   2   0   0   0]\n",
        " [ 35 432   4   0   0   0]\n",
        " [ 10  47 363   0   0   0]\n",
        " [  0   2   0 457  32   0]\n",
        " [  0   0   0  22 510   0]\n",
        " [  0   0   0   0   0 537]]\n",
        "Confusion Matrix & Scores (Actual Activities & Precision vs. Predicted Activies & Recall; Total Accuracy)\n",
        "[[ 494.      0.      2.      0.      0.      0.     99.6 ]\n",
        " [  35.    432.      4.      0.      0.      0.     91.72]\n",
        " [  10.     47.    363.      0.      0.      0.     86.43]\n",
        " [   0.      2.      0.    457.     32.      0.     93.08]\n",
        " [   0.      0.      0.     22.    510.      0.     95.86]\n",
        " [   0.      0.      0.      0.      0.    537.    100.  ]\n",
        " [  91.65   89.81   98.37   95.41   94.1   100.     94.77]]\n"
       ]
      }
     ],
     "prompt_number": 93
    },
    {
     "cell_type": "code",
     "collapsed": false,
     "input": [
      "# Ensamble (SVC,XGBC)"
     ],
     "language": "python",
     "metadata": {},
     "outputs": [],
     "prompt_number": 96
    },
    {
     "cell_type": "code",
     "collapsed": false,
     "input": [
      "y_all = np.column_stack((y_pred_svc_rbf_moe, y_pred_xgbc_moe))\n",
      "y_pred_all = []\n",
      "for i in range(len(y_all)):\n",
      "    y_pred_all.extend((stats.mode(y_all[i])[0]).astype(int))\n",
      "print 'MOE All Metrics: '\n",
      "all_moe_acc, all_moe_prec, all_moe_rec, all_moe_cm, all_moe_cm_full = get_scores(y_test,y_pred_all)"
     ],
     "language": "python",
     "metadata": {},
     "outputs": [
      {
       "output_type": "stream",
       "stream": "stdout",
       "text": [
        "MOE All Metrics: \n",
        "Accuracy:  95.62\n",
        "Precision:  95.76\n",
        "Recall:  95.41\n",
        "Macro Precision:  95.73\n",
        "Macro Recall:  95.62\n",
        "Confusion Matrix (Activities: Walking, Upstairs, Downstairs, Standing, Sitting, Laying\n",
        "[[494   2   0   0   0   0]\n",
        " [ 30 441   0   0   0   0]\n",
        " [  9  33 378   0   0   0]\n",
        " [  0   2   0 462  27   0]\n",
        " [  0   0   0  26 506   0]\n",
        " [  0   0   0   0   0 537]]\n",
        "Confusion Matrix & Scores (Actual Activities & Precision vs. Predicted Activies & Recall; Total Accuracy)\n",
        "[[ 494.      2.      0.      0.      0.      0.     99.6 ]\n",
        " [  30.    441.      0.      0.      0.      0.     93.63]\n",
        " [   9.     33.    378.      0.      0.      0.     90.  ]\n",
        " [   0.      2.      0.    462.     27.      0.     94.09]\n",
        " [   0.      0.      0.     26.    506.      0.     95.11]\n",
        " [   0.      0.      0.      0.      0.    537.    100.  ]\n",
        " [  92.68   92.26  100.     94.67   94.93  100.     95.62]]\n"
       ]
      }
     ],
     "prompt_number": 94
    },
    {
     "cell_type": "code",
     "collapsed": false,
     "input": [],
     "language": "python",
     "metadata": {},
     "outputs": []
    }
   ],
   "metadata": {}
  }
 ]
}