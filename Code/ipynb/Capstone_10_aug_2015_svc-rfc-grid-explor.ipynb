{
 "cells": [
  {
   "cell_type": "code",
   "execution_count": 3,
   "metadata": {
    "collapsed": true
   },
   "outputs": [],
   "source": [
    "import pandas as pd\n",
    "import numpy as np\n",
    "\n",
    "from sklearn import svm\n",
    "from sklearn.ensemble import RandomForestClassifier\n",
    "\n",
    "from sklearn.metrics import accuracy_score, precision_score, recall_score\n",
    "from sklearn.metrics import confusion_matrix\n",
    "from sklearn import cross_validation\n",
    "from sklearn.grid_search import GridSearchCV"
   ]
  },
  {
   "cell_type": "code",
   "execution_count": 4,
   "metadata": {
    "collapsed": true
   },
   "outputs": [],
   "source": [
    "def get_data(X_train_file, y_train_file, X_test_file, y_test_file):\n",
    "    # Reads train & test features and labels data from files and returnes them as numpy arrays\n",
    "\n",
    "    X_train_df = pd.read_csv(X_train_file)\n",
    "    y_train_df = pd.read_csv(y_train_file)\n",
    "    X_test_df = pd.read_csv(X_test_file)\n",
    "    y_test_df = pd.read_csv(y_test_file);\n",
    "\n",
    "    n_train_samples = X_train_df.shape[0]\n",
    "    n_test_samples = X_test_df.shape[0]\n",
    "    n_features = X_train_df.shape[1]\n",
    "\n",
    "    X_train = np.array(X_train_df).reshape((n_train_samples,n_features))\n",
    "    y_train = np.array(y_train_df).reshape(n_train_samples,)    \n",
    "    X_test = np.array(X_test_df).reshape((n_test_samples,n_features))\n",
    "    y_test = np.array(y_test_df).reshape(n_test_samples,)\n",
    "\n",
    "    return X_train, y_train, X_test, y_test"
   ]
  },
  {
   "cell_type": "code",
   "execution_count": 6,
   "metadata": {
    "collapsed": true
   },
   "outputs": [],
   "source": [
    "def get_scores(y_test,y_pred):\n",
    "    # Reads labels and predictions and gives accuracy, precision, recall & confusion matrix\n",
    "\n",
    "    cm = confusion_matrix(y_test, y_pred)\n",
    "    acc = accuracy_score(y_test, y_pred)\n",
    "\n",
    "    prec = np.around(np.diag(cm).astype(float)*100/cm.sum(axis = 0), decimals =2)\n",
    "    rec = np.around(np.diag(cm).astype(float)*100/cm.sum(axis = 1), decimals =2)\n",
    "\n",
    "    cm_full = np.vstack((cm,prec))  # adding precision row \n",
    "    cm_full = np.hstack((cm_full,(np.append(rec,np.around(acc*100,decimals=2))).reshape(len(cm_full),1))) # adding recall column & total accuracy\n",
    "\n",
    "\n",
    "    print 'Accuracy: ', np.around(acc*100,decimals=2)\n",
    "    print 'Precision: ', np.around(prec*100,decimals=2)\n",
    "    print 'Recall: ', np.around(rec*100,decimals=2)\n",
    "    print 'Confusion Matrix (Activities: Walking, Upstairs, Downstairs, Standing, Sitting, Laying'\n",
    "    print cm\n",
    "    print 'Confusion Matrix & Scores (Actual Activities & Precision vs. Predicted Activies & Recall; Total Accuracy)'\n",
    "    print cm_full  \n",
    "\n",
    "    return acc, prec, rec, cm, cm_full"
   ]
  },
  {
   "cell_type": "code",
   "execution_count": 7,
   "metadata": {
    "collapsed": true
   },
   "outputs": [],
   "source": [
    "def do_grid_search(est, parameters, X_train, y_train):\n",
    "    # Reads estimator and it's parameters and gives the best parameters\n",
    "\n",
    "    nfolds = 10\n",
    "    skf = cross_validation.StratifiedKFold(y_train, n_folds = nfolds, random_state=42)\n",
    "    gs_clf = GridSearchCV(est, parameters, cv = skf, n_jobs = -1)\n",
    "    gs_clf.fit(X_train, y_train)\n",
    "    return gs_clf.best_score_, gs_clf.best_params_"
   ]
  },
  {
   "cell_type": "code",
   "execution_count": 50,
   "metadata": {
    "collapsed": true
   },
   "outputs": [],
   "source": [
    "def do_svc(X_train, y_train, X_test, svc_parameters):\n",
    "    # Read data and give SVC prediction for th best parameters\n",
    "\n",
    "    svc = svm.SVC()\n",
    "    svc_best_score, svc_best_params = do_grid_search(svc, svc_parameters, X_train, y_train)\n",
    "    print 'SVC best score is: ', svc_best_score\n",
    "    print 'SVC best parameters are: ', svc_best_params\n",
    "\n",
    "    svc_opt = svm.SVC(C=svc_best_params['C'], kernel=svc_best_params['kernel'], degree=3, gamma=svc_best_params['gamma'], \n",
    "            coef0=0.0, shrinking=True, probability=False, tol=0.001, cache_size=200, class_weight=None, verbose=False,\n",
    "            max_iter=-1, random_state=None)\n",
    "    svc_opt.fit(X_train, y_train)\n",
    "    return svc_opt.predict(X_test)"
   ]
  },
  {
   "cell_type": "code",
   "execution_count": 5,
   "metadata": {
    "collapsed": false
   },
   "outputs": [],
   "source": [
    " X_train, y_train, X_test, y_test = get_data('X_train_header.txt', 'y_train_header.txt',\n",
    "                                             'X_test_header.txt', 'y_test_header.txt')   "
   ]
  },
  {
   "cell_type": "code",
   "execution_count": 9,
   "metadata": {
    "collapsed": true
   },
   "outputs": [],
   "source": [
    "C_range = [0.1, 10]\n",
    "gamma_range = [1.0000e-08, 1.0000]                           \n",
    "svc_parameters = {'kernel':('linear', 'rbf'), 'C':C_range, 'gamma': gamma_range}"
   ]
  },
  {
   "cell_type": "code",
   "execution_count": 13,
   "metadata": {
    "collapsed": false
   },
   "outputs": [
    {
     "name": "stdout",
     "output_type": "stream",
     "text": [
      "SVC best score is:  0.947633297062\n",
      "SVC best parameters are:  {'kernel': 'linear', 'C': 10, 'gamma': 1e-08}\n"
     ]
    },
    {
     "ename": "NameError",
     "evalue": "global name 'svm_best_params' is not defined",
     "output_type": "error",
     "traceback": [
      "\u001b[0;31m---------------------------------------------------------------------------\u001b[0m",
      "\u001b[0;31mNameError\u001b[0m                                 Traceback (most recent call last)",
      "\u001b[0;32m<ipython-input-13-acf04961ad65>\u001b[0m in \u001b[0;36m<module>\u001b[0;34m()\u001b[0m\n\u001b[0;32m----> 1\u001b[0;31m \u001b[0my_pred_svc\u001b[0m \u001b[0;34m=\u001b[0m \u001b[0mdo_svc\u001b[0m\u001b[0;34m(\u001b[0m\u001b[0mX_train\u001b[0m\u001b[0;34m,\u001b[0m \u001b[0my_train\u001b[0m\u001b[0;34m,\u001b[0m \u001b[0mX_test\u001b[0m\u001b[0;34m,\u001b[0m \u001b[0msvc_parameters\u001b[0m\u001b[0;34m)\u001b[0m\u001b[0;34m\u001b[0m\u001b[0m\n\u001b[0m",
      "\u001b[0;32m<ipython-input-8-0d420141b058>\u001b[0m in \u001b[0;36mdo_svc\u001b[0;34m(X_train, y_train, X_test, svc_parameters)\u001b[0m\n\u001b[1;32m      7\u001b[0m     \u001b[0;32mprint\u001b[0m \u001b[0;34m'SVC best parameters are: '\u001b[0m\u001b[0;34m,\u001b[0m \u001b[0msvc_best_params\u001b[0m\u001b[0;34m\u001b[0m\u001b[0m\n\u001b[1;32m      8\u001b[0m \u001b[0;34m\u001b[0m\u001b[0m\n\u001b[0;32m----> 9\u001b[0;31m     svc_opt = svm.SVC(C=svm_best_params['C'], kernel=svm_best_params['kernel'], degree=3, gamma=svm_best_params['gamma'], \n\u001b[0m\u001b[1;32m     10\u001b[0m             \u001b[0mcoef0\u001b[0m\u001b[0;34m=\u001b[0m\u001b[0;36m0.0\u001b[0m\u001b[0;34m,\u001b[0m \u001b[0mshrinking\u001b[0m\u001b[0;34m=\u001b[0m\u001b[0mTrue\u001b[0m\u001b[0;34m,\u001b[0m \u001b[0mprobability\u001b[0m\u001b[0;34m=\u001b[0m\u001b[0mFalse\u001b[0m\u001b[0;34m,\u001b[0m \u001b[0mtol\u001b[0m\u001b[0;34m=\u001b[0m\u001b[0;36m0.001\u001b[0m\u001b[0;34m,\u001b[0m \u001b[0mcache_size\u001b[0m\u001b[0;34m=\u001b[0m\u001b[0;36m200\u001b[0m\u001b[0;34m,\u001b[0m \u001b[0mclass_weight\u001b[0m\u001b[0;34m=\u001b[0m\u001b[0mNone\u001b[0m\u001b[0;34m,\u001b[0m \u001b[0mverbose\u001b[0m\u001b[0;34m=\u001b[0m\u001b[0mFalse\u001b[0m\u001b[0;34m,\u001b[0m\u001b[0;34m\u001b[0m\u001b[0m\n\u001b[1;32m     11\u001b[0m             max_iter=-1, random_state=None)\n",
      "\u001b[0;31mNameError\u001b[0m: global name 'svm_best_params' is not defined"
     ]
    }
   ],
   "source": [
    "y_pred_svc = do_svc(X_train, y_train, X_test, svc_parameters)"
   ]
  },
  {
   "cell_type": "code",
   "execution_count": 16,
   "metadata": {
    "collapsed": false
   },
   "outputs": [],
   "source": [
    "svc_best_params = {'kernel': 'linear', 'C': 10, 'gamma': 1e-08}"
   ]
  },
  {
   "cell_type": "code",
   "execution_count": 19,
   "metadata": {
    "collapsed": false
   },
   "outputs": [],
   "source": [
    "    svc_opt = svm.SVC(C=svc_best_params['C'], kernel=svc_best_params['kernel'], degree=3, gamma=svc_best_params['gamma'], \n",
    "            coef0=0.0, shrinking=True, probability=False, tol=0.001, cache_size=200, class_weight=None, verbose=False,\n",
    "            max_iter=-1, random_state=None)\n",
    "    svc_opt.fit(X_train, y_train)\n",
    "    y_pred_svc = svc_opt.predict(X_test)"
   ]
  },
  {
   "cell_type": "code",
   "execution_count": 21,
   "metadata": {
    "collapsed": false
   },
   "outputs": [
    {
     "name": "stdout",
     "output_type": "stream",
     "text": [
      "SVC Accuracy:  96.27\n",
      "SVC Precision:  96.36\n",
      "SVC Recall:  96.27\n",
      "SVC Confusion Matrix (Activities: Walking, Upstairs, Downstairs, Standing, Sitting, Laying\n",
      "[[492   1   3   0   0   0]\n",
      " [ 18 451   2   0   0   0]\n",
      " [  4   6 410   0   0   0]\n",
      " [  0   3   0 432  56   0]\n",
      " [  0   0   0  17 515   0]\n",
      " [  0   0   0   0   0 537]]\n",
      "SVC Confusion Matrix & Scores (Actual Activities & Precision vs. Predicted Activies & Recall; Total Accuracy)\n",
      "[[ 492.      1.      3.      0.      0.      0.     99.19]\n",
      " [  18.    451.      2.      0.      0.      0.     95.75]\n",
      " [   4.      6.    410.      0.      0.      0.     97.62]\n",
      " [   0.      3.      0.    432.     56.      0.     87.98]\n",
      " [   0.      0.      0.     17.    515.      0.     96.8 ]\n",
      " [   0.      0.      0.      0.      0.    537.    100.  ]\n",
      " [  95.72   97.83   98.8    96.21   90.19  100.     96.27]]\n"
     ]
    },
    {
     "name": "stderr",
     "output_type": "stream",
     "text": [
      "/Users/datascientist/anaconda/lib/python2.7/site-packages/sklearn/metrics/classification.py:1082: DeprecationWarning: The default `weighted` averaging is deprecated, and from version 0.18, use of precision, recall or F-score with multiclass or multilabel data or pos_label=None will result in an exception. Please set an explicit value for `average`, one of (None, 'micro', 'macro', 'weighted', 'samples'). In cross validation use, for instance, scoring=\"f1_weighted\" instead of scoring=\"f1\".\n",
      "  sample_weight=sample_weight)\n",
      "/Users/datascientist/anaconda/lib/python2.7/site-packages/sklearn/metrics/classification.py:1172: DeprecationWarning: The default `weighted` averaging is deprecated, and from version 0.18, use of precision, recall or F-score with multiclass or multilabel data or pos_label=None will result in an exception. Please set an explicit value for `average`, one of (None, 'micro', 'macro', 'weighted', 'samples'). In cross validation use, for instance, scoring=\"f1_weighted\" instead of scoring=\"f1\".\n",
      "  sample_weight=sample_weight)\n"
     ]
    }
   ],
   "source": [
    "    svc_acc, svc_prec, svc_rec, svc_cm, svc_cm_full = get_scores(y_test,y_pred_svc)\n",
    "    print 'SVC Accuracy: ', np.around(svc_acc*100,decimals=2)\n",
    "    print 'SVC Precision: ', np.around(svc_prec*100,decimals=2)\n",
    "    print 'SVC Recall: ', np.around(svc_rec*100,decimals=2)\n",
    "    print 'SVC Confusion Matrix (Activities: Walking, Upstairs, Downstairs, Standing, Sitting, Laying'\n",
    "    print svc_cm\n",
    "    print 'SVC Confusion Matrix & Scores (Actual Activities & Precision vs. Predicted Activies & Recall; Total Accuracy)'\n",
    "    print svc_cm_full "
   ]
  },
  {
   "cell_type": "code",
   "execution_count": 10,
   "metadata": {
    "collapsed": false
   },
   "outputs": [],
   "source": [
    "def do_rfc(X_train, y_train, X_test, rfc_parameters):\n",
    "    # Read data and give RFC prediction for th best parameters\n",
    "\n",
    "    rfc = RandomForestClassifier()\n",
    "    rfc_best_score, rfc_best_params = do_grid_search(rfc, rfc_parameters, X_train, y_train)\n",
    "    print 'RFC best parameters are: ', rfc_best_params\n",
    "\n",
    "    rfc_opt = RandomForestClassifier(n_estimators=rfc_best_params['n_estimators'], criterion=rfc_best_params['criterion'], \n",
    "            max_depth=None, min_samples_split=2, min_samples_leaf=1, min_weight_fraction_leaf=0.0, \n",
    "            max_features=rfc_best_params['max_features'], max_leaf_nodes=None, bootstrap=True, oob_score=False, n_jobs=1, \n",
    "            random_state=None, verbose=0, warm_start=False, class_weight=None)\n",
    "    rfc_opt.fit(X_train, y_train)\n",
    "\n",
    "    feature_importances = np.argsort(rfc_opt.feature_importances_) \n",
    "    print '10 most importantant features are with column numbers: ', feature_importances[-1:-11:-1] # reverse order\n",
    "\n",
    "    return rfc_opt.predict(X_test)\n"
   ]
  },
  {
   "cell_type": "code",
   "execution_count": 45,
   "metadata": {
    "collapsed": false
   },
   "outputs": [],
   "source": [
    "    n_estimators_range = [5, 1000]\n",
    "    max_features_range = [2, 9]    # log2(nfeatures=562) = 24, sqrt(561) = 9     \n",
    "    #max_depth_range = []\n",
    "    rfc_parameters = {'criterion':('gini', 'entropy'), 'n_estimators': n_estimators_range, 'max_features': max_features_range}"
   ]
  },
  {
   "cell_type": "code",
   "execution_count": 46,
   "metadata": {
    "collapsed": false
   },
   "outputs": [
    {
     "name": "stdout",
     "output_type": "stream",
     "text": [
      "RFC best parameters are:  {'max_features': 9, 'n_estimators': 1000, 'criterion': 'gini'}\n",
      "10 most importantant features are with column numbers:  [ 52  56 558  40  53  49  41  50 559  57]\n"
     ]
    }
   ],
   "source": [
    "    y_pred_rfc = do_rfc(X_train, y_train, X_test, rfc_parameters)"
   ]
  },
  {
   "cell_type": "code",
   "execution_count": 48,
   "metadata": {
    "collapsed": false
   },
   "outputs": [
    {
     "name": "stdout",
     "output_type": "stream",
     "text": [
      "RFC Accuracy:  94.16\n",
      "RFC Precision:  94.32\n",
      "RFC Recall:  94.16\n",
      "RFC Confusion Matrix (Activities: Walking, Upstairs, Downstairs, Standing, Sitting, Laying\n",
      "[[485   2   9   0   0   0]\n",
      " [ 27 438   6   0   0   0]\n",
      " [ 22  47 351   0   0   0]\n",
      " [  0   0   0 444  46   1]\n",
      " [  0   0   0  12 520   0]\n",
      " [  0   0   0   0   0 537]]\n",
      "RFC Confusion Matrix & Scores (Actual Activities & Precision vs. Predicted Activies & Recall; Total Accuracy)\n",
      "[[ 485.      2.      9.      0.      0.      0.     97.78]\n",
      " [  27.    438.      6.      0.      0.      0.     92.99]\n",
      " [  22.     47.    351.      0.      0.      0.     83.57]\n",
      " [   0.      0.      0.    444.     46.      1.     90.43]\n",
      " [   0.      0.      0.     12.    520.      0.     97.74]\n",
      " [   0.      0.      0.      0.      0.    537.    100.  ]\n",
      " [  90.82   89.94   95.9    97.37   91.87   99.81   94.16]]\n"
     ]
    },
    {
     "name": "stderr",
     "output_type": "stream",
     "text": [
      "/Users/datascientist/anaconda/lib/python2.7/site-packages/sklearn/metrics/classification.py:1082: DeprecationWarning: The default `weighted` averaging is deprecated, and from version 0.18, use of precision, recall or F-score with multiclass or multilabel data or pos_label=None will result in an exception. Please set an explicit value for `average`, one of (None, 'micro', 'macro', 'weighted', 'samples'). In cross validation use, for instance, scoring=\"f1_weighted\" instead of scoring=\"f1\".\n",
      "  sample_weight=sample_weight)\n",
      "/Users/datascientist/anaconda/lib/python2.7/site-packages/sklearn/metrics/classification.py:1172: DeprecationWarning: The default `weighted` averaging is deprecated, and from version 0.18, use of precision, recall or F-score with multiclass or multilabel data or pos_label=None will result in an exception. Please set an explicit value for `average`, one of (None, 'micro', 'macro', 'weighted', 'samples'). In cross validation use, for instance, scoring=\"f1_weighted\" instead of scoring=\"f1\".\n",
      "  sample_weight=sample_weight)\n"
     ]
    }
   ],
   "source": [
    "    rfc_acc, rfc_prec, rfc_rec, rfc_cm, rfc_cm_full = get_scores(y_test,y_pred_rfc)\n",
    "    print 'RFC Accuracy: ', np.around(rfc_acc*100,decimals=2)\n",
    "    print 'RFC Precision: ', np.around(rfc_prec*100,decimals=2)\n",
    "    print 'RFC Recall: ', np.around(rfc_rec*100,decimals=2)\n",
    "    print 'RFC Confusion Matrix (Activities: Walking, Upstairs, Downstairs, Standing, Sitting, Laying'\n",
    "    print rfc_cm\n",
    "    print 'RFC Confusion Matrix & Scores (Actual Activities & Precision vs. Predicted Activies & Recall; Total Accuracy)'\n",
    "    print rfc_cm_full"
   ]
  },
  {
   "cell_type": "code",
   "execution_count": 49,
   "metadata": {
    "collapsed": true
   },
   "outputs": [],
   "source": [
    "    C_range = [0.1, 0.316, 1, 3.16, 10, 31.6, 100, 316, 1000, 3160, 10000]\n",
    "    gamma_range = [1.0000e-08, 6.3096e-08, 3.9811e-07, 2.5119e-06, 1.5849e-05, 0.0001, 0.00063096,\n",
    "                            0.0039811, 0.025119, 0.15849, 1.0000]                           \n",
    "    svc_parameters = {'kernel':('linear', 'rbf'), 'C':C_range, 'gamma': gamma_range}"
   ]
  },
  {
   "cell_type": "code",
   "execution_count": 51,
   "metadata": {
    "collapsed": false
   },
   "outputs": [
    {
     "name": "stdout",
     "output_type": "stream",
     "text": [
      "SVC best score is:  0.957698585419\n",
      "SVC best parameters are:  {'kernel': 'rbf', 'C': 10, 'gamma': 0.025119}\n"
     ]
    }
   ],
   "source": [
    "y_pred_svc = do_svc(X_train, y_train, X_test, svc_parameters)"
   ]
  },
  {
   "cell_type": "code",
   "execution_count": 52,
   "metadata": {
    "collapsed": false
   },
   "outputs": [
    {
     "name": "stderr",
     "output_type": "stream",
     "text": [
      "/Users/datascientist/anaconda/lib/python2.7/site-packages/sklearn/metrics/classification.py:1082: DeprecationWarning: The default `weighted` averaging is deprecated, and from version 0.18, use of precision, recall or F-score with multiclass or multilabel data or pos_label=None will result in an exception. Please set an explicit value for `average`, one of (None, 'micro', 'macro', 'weighted', 'samples'). In cross validation use, for instance, scoring=\"f1_weighted\" instead of scoring=\"f1\".\n",
      "  sample_weight=sample_weight)\n",
      "/Users/datascientist/anaconda/lib/python2.7/site-packages/sklearn/metrics/classification.py:1172: DeprecationWarning: The default `weighted` averaging is deprecated, and from version 0.18, use of precision, recall or F-score with multiclass or multilabel data or pos_label=None will result in an exception. Please set an explicit value for `average`, one of (None, 'micro', 'macro', 'weighted', 'samples'). In cross validation use, for instance, scoring=\"f1_weighted\" instead of scoring=\"f1\".\n",
      "  sample_weight=sample_weight)\n"
     ]
    },
    {
     "name": "stdout",
     "output_type": "stream",
     "text": [
      "SVC Accuracy:  96.34\n",
      "SVC Precision:  96.44\n",
      "SVC Recall:  96.34\n",
      "SVC Confusion Matrix (Activities: Walking, Upstairs, Downstairs, Standing, Sitting, Laying\n",
      "[[486   5   5   0   0   0]\n",
      " [ 12 458   1   0   0   0]\n",
      " [  5  29 386   0   0   0]\n",
      " [  0   2   0 449  40   0]\n",
      " [  0   0   0   9 523   0]\n",
      " [  0   0   0   0   0 537]]\n",
      "SVC Confusion Matrix & Scores (Actual Activities & Precision vs. Predicted Activies & Recall; Total Accuracy)\n",
      "[[ 486.      5.      5.      0.      0.      0.     97.98]\n",
      " [  12.    458.      1.      0.      0.      0.     97.24]\n",
      " [   5.     29.    386.      0.      0.      0.     91.9 ]\n",
      " [   0.      2.      0.    449.     40.      0.     91.45]\n",
      " [   0.      0.      0.      9.    523.      0.     98.31]\n",
      " [   0.      0.      0.      0.      0.    537.    100.  ]\n",
      " [  96.62   92.71   98.47   98.03   92.9   100.     96.34]]\n"
     ]
    }
   ],
   "source": [
    "    svc_acc, svc_prec, svc_rec, svc_cm, svc_cm_full = get_scores(y_test,y_pred_svc)\n",
    "    print 'SVC Accuracy: ', np.around(svc_acc*100,decimals=2)\n",
    "    print 'SVC Precision: ', np.around(svc_prec*100,decimals=2)\n",
    "    print 'SVC Recall: ', np.around(svc_rec*100,decimals=2)\n",
    "    print 'SVC Confusion Matrix (Activities: Walking, Upstairs, Downstairs, Standing, Sitting, Laying'\n",
    "    print svc_cm\n",
    "    print 'SVC Confusion Matrix & Scores (Actual Activities & Precision vs. Predicted Activies & Recall; Total Accuracy)'\n",
    "    print svc_cm_full "
   ]
  },
  {
   "cell_type": "code",
   "execution_count": null,
   "metadata": {
    "collapsed": true
   },
   "outputs": [],
   "source": [
    "    n_estimators_range = [5, 10, 25, 50, 100, 500, 1000]\n",
    "    max_features_range = [2, 5, 9, 24]    # log2(nfeatures=561) = 9, sqrt(561) = 24     \n",
    "    max_depth_range = [6, 8, 10, 20]\n",
    "    rfc_parameters = {'criterion':('gini', 'entropy'), 'n_estimators': n_estimators_range, 'max_features': max_features_range,\n",
    "                     'max_depth_range': max_depth_range}"
   ]
  },
  {
   "cell_type": "code",
   "execution_count": 8,
   "metadata": {
    "collapsed": true
   },
   "outputs": [],
   "source": [
    "n_estimators_range = [1000, 5000, 10000]\n",
    "max_features_range = [8, 9, 10, 15, 24]    # log2(nfeatures=562) = 9, sqrt(561) = 24    \n",
    "rfc_parameters = {'criterion':('gini', 'entropy'), 'n_estimators': n_estimators_range, 'max_features': max_features_range}"
   ]
  },
  {
   "cell_type": "code",
   "execution_count": null,
   "metadata": {
    "collapsed": false
   },
   "outputs": [],
   "source": [
    "y_pred_rfc = do_rfc(X_train, y_train, X_test, rfc_parameters)"
   ]
  },
  {
   "cell_type": "code",
   "execution_count": null,
   "metadata": {
    "collapsed": true
   },
   "outputs": [],
   "source": [
    "\n"
   ]
  }
 ],
 "metadata": {
  "kernelspec": {
   "display_name": "Python 2",
   "language": "python",
   "name": "python2"
  },
  "language_info": {
   "codemirror_mode": {
    "name": "ipython",
    "version": 2
   },
   "file_extension": ".py",
   "mimetype": "text/x-python",
   "name": "python",
   "nbconvert_exporter": "python",
   "pygments_lexer": "ipython2",
   "version": "2.7.10"
  }
 },
 "nbformat": 4,
 "nbformat_minor": 0
}
