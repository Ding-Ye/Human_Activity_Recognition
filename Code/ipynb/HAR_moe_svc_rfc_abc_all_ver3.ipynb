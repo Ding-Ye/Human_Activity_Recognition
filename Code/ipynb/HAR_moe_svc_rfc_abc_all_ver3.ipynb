{
 "metadata": {
  "name": ""
 },
 "nbformat": 3,
 "nbformat_minor": 0,
 "worksheets": [
  {
   "cells": [
    {
     "cell_type": "code",
     "collapsed": false,
     "input": [
      "import pandas as pd\n",
      "import numpy as np\n",
      "from scipy import stats\n",
      "\n",
      "from sklearn import svm\n",
      "from sklearn.ensemble import RandomForestClassifier\n",
      "from sklearn.ensemble import AdaBoostClassifier\n",
      "from sklearn.tree import DecisionTreeClassifier\n",
      "\n",
      "from sklearn.metrics import accuracy_score, precision_score, recall_score\n",
      "from sklearn.metrics import confusion_matrix\n",
      "from sklearn import cross_validation\n",
      "\n",
      "from moe.easy_interface.experiment import Experiment\n",
      "from moe.easy_interface.simple_endpoint import gp_next_points\n",
      "from moe.optimal_learning.python.data_containers import SamplePoint"
     ],
     "language": "python",
     "metadata": {},
     "outputs": [],
     "prompt_number": 1
    },
    {
     "cell_type": "code",
     "collapsed": false,
     "input": [
      "def get_data(X_train_file, y_train_file, X_test_file, y_test_file):\n",
      "    # Reads train & test features and labels data from files and returnes them as numpy arrays\n",
      "\n",
      "    X_train_df = pd.read_csv(X_train_file)\n",
      "    y_train_df = pd.read_csv(y_train_file)\n",
      "    X_test_df = pd.read_csv(X_test_file)\n",
      "    y_test_df = pd.read_csv(y_test_file);\n",
      "\n",
      "    n_train_samples = X_train_df.shape[0]\n",
      "    n_test_samples = X_test_df.shape[0]\n",
      "    n_features = X_train_df.shape[1]\n",
      "\n",
      "    X_train = np.array(X_train_df).reshape((n_train_samples,n_features))\n",
      "    y_train = np.array(y_train_df).reshape(n_train_samples,)    \n",
      "    X_test = np.array(X_test_df).reshape((n_test_samples,n_features))\n",
      "    y_test = np.array(y_test_df).reshape(n_test_samples,)\n",
      "\n",
      "    return X_train, y_train, X_test, y_test"
     ],
     "language": "python",
     "metadata": {},
     "outputs": [],
     "prompt_number": 2
    },
    {
     "cell_type": "code",
     "collapsed": false,
     "input": [
      "def get_scores(y_test,y_pred):\n",
      "    # Reads labels and predictions and gives accuracy, precision, recall & confusion matrix\n",
      "\n",
      "    cm = confusion_matrix(y_test, y_pred)\n",
      "    acc = accuracy_score(y_test, y_pred)\n",
      "\n",
      "    prec = np.around(np.diag(cm).astype(float)*100/cm.sum(axis = 0), decimals =2)\n",
      "    rec = np.around(np.diag(cm).astype(float)*100/cm.sum(axis = 1), decimals =2)\n",
      "\n",
      "    cm_full = np.vstack((cm,prec))  # adding precision row \n",
      "    cm_full = np.hstack((cm_full,(np.append(rec,np.around(acc*100,decimals=2))).reshape(len(cm_full),1))) # adding recall column & total accuracy\n",
      "\n",
      "    prec_macro = precision_score(y_test, y_pred, average='weighted')\n",
      "    rec_macro = recall_score(y_test, y_pred, average='weighted')\n",
      "\n",
      "    print 'Accuracy: ', np.around(acc*100,decimals=2)\n",
      "    print 'Precision: ', round(np.mean(prec),2)\n",
      "    print 'Recall: ', round(np.mean(rec),2)\n",
      "    print 'Macro Precision: ', round(prec_macro*100,2)\n",
      "    print 'Macro Recall: ', round(rec_macro*100,2)   \n",
      "    print 'Confusion Matrix (Activities: Walking, Upstairs, Downstairs, Standing, Sitting, Laying'\n",
      "    print cm\n",
      "    print 'Confusion Matrix & Scores (Actual Activities & Precision vs. Predicted Activies & Recall; Total Accuracy)'\n",
      "    print cm_full  \n",
      "\n",
      "    return acc, prec_macro, rec_macro, cm, cm_full\n"
     ],
     "language": "python",
     "metadata": {},
     "outputs": [],
     "prompt_number": 4
    },
    {
     "cell_type": "code",
     "collapsed": false,
     "input": [
      "def do_svc_linear_MOE(num_points_to_sample, X_train, y_train, verbose=True, **kwargs):\n",
      "    exp_svc_linear = Experiment([[1.0000e-05, 1.0]])  # C_range = [0.1, 10000] is divided to be in [0.1, 1] range\n",
      "    best_point = []\n",
      "    best_point_value = 0.\n",
      "    for _ in range(num_points_to_sample):\n",
      "        # Use MOE to determine what is the point with hnighest Expected Improvement to use next\n",
      "        next_point_to_sample = gp_next_points(exp_svc_linear, rest_host='localhost', rest_port=6543, **kwargs)[0]  # By default we only ask for one point\n",
      "        # Sample the point from objective function\n",
      "        C = next_point_to_sample[0] * 10000.0\n",
      "        svc_linear = svm.LinearSVC(penalty='l2', loss='squared_hinge', dual=True, tol=0.0001, C=C, multi_class='ovr',\n",
      "            fit_intercept=True, intercept_scaling=1, class_weight=None, verbose=0, random_state=None, max_iter=1000)\n",
      "        score_cv = cross_validation.cross_val_score(svc_linear, X_train, y_train, cv=10, scoring='accuracy')\n",
      "        value_of_next_point = np.mean(score_cv) \n",
      "        if value_of_next_point > best_point_value:\n",
      "            best_point_value = value_of_next_point\n",
      "            best_point = next_point_to_sample\n",
      "        if verbose:\n",
      "            print \"Sampled f({0:s}) = {1:.18E}\".format(str(next_point_to_sample), value_of_next_point)\n",
      "        # Add the information about the point to the experiment historical data to inform the GP; \n",
      "        # - infront of value_of_next_point is due to fact that moe minimize and max accuracy is of interest in HAR classification\n",
      "        exp_svc_linear.historical_data.append_sample_points([SamplePoint(next_point_to_sample, -value_of_next_point, .000001)])  # We can add some noise\n",
      "    best_point[0] *= 10000\n",
      "    return best_point, best_point_value"
     ],
     "language": "python",
     "metadata": {},
     "outputs": [],
     "prompt_number": 5
    },
    {
     "cell_type": "code",
     "collapsed": false,
     "input": [
      "def do_svc_rbf_MOE(num_points_to_sample, X_train, y_train, verbose=True, **kwargs):\n",
      "    exp_svc_rbf = Experiment([[1.0000e-05, 1], [1.0000e-08, 1]])  # C_range = [0.1, 10000] is divided to be in [0.1, 1] range\n",
      "    best_point = []\n",
      "    best_point_value = 0.\n",
      "    for _ in range(num_points_to_sample):\n",
      "        # Use MOE to determine what is the point with highest Expected Improvement to use next\n",
      "        next_point_to_sample = gp_next_points(exp_svc_rbf, rest_host='localhost', rest_port=6543, **kwargs)[0]  # By default we only ask for one point\n",
      "        # Sample the point from objective function\n",
      "        C = next_point_to_sample[0] * 10000.0   \n",
      "        gamma =   next_point_to_sample[1]  \n",
      "        svc_rbf = svm.SVC(C=C, kernel='rbf', degree=3, gamma=gamma, coef0=0.0, shrinking=True, probability=False, tol=0.001, cache_size=200,\n",
      "                 class_weight=None, verbose=False, max_iter=-1, random_state=None)\n",
      "        score_cv = cross_validation.cross_val_score(svc_rbf, X_train, y_train, cv=10, scoring='accuracy')\n",
      "        value_of_next_point = np.mean(score_cv)\n",
      "        if value_of_next_point > best_point_value:\n",
      "            best_point_value = value_of_next_point\n",
      "            best_point = next_point_to_sample\n",
      "        if verbose:\n",
      "            print \"Sampled f({0:s}) = {1:.18E}\".format(str(next_point_to_sample), value_of_next_point)\n",
      "        # Add the information about the point to the experiment historical data to inform the GP\n",
      "        exp_svc_rbf.historical_data.append_sample_points([SamplePoint(next_point_to_sample, -value_of_next_point, 0.0001)])  # We can add some noise\n",
      "    best_point[0] *= 10000\n",
      "    return best_point, best_point_value\n",
      "\n"
     ],
     "language": "python",
     "metadata": {},
     "outputs": [],
     "prompt_number": 6
    },
    {
     "cell_type": "code",
     "collapsed": false,
     "input": [
      "def do_rfc_MOE(num_points_to_sample, X_train, y_train, verbose=True, **kwargs):\n",
      "    exp_rfc = Experiment([[0.005, 1], [0.04, 1], [0.1, 1], [0.1, 1]])  # n_estimators_range = [5, 1000] and  max_features_range = [2, 24] are normalized \n",
      "                                                                       # max_depth_range = [1, 10] & min_samples_leaf_range = [1, 10] are normalized\n",
      "    best_point = []\n",
      "    best_point_value = 0.    \n",
      "    for _ in range(num_points_to_sample):\n",
      "        # Use MOE to determine what is the point with highest Expected Improvement to use next\n",
      "        next_point_to_sample = gp_next_points(exp_rfc, rest_host='localhost', rest_port=6543, **kwargs)[0]  # By default we only ask for one point\n",
      "        # Sample the point from objective function\n",
      "        n_estimators = int(round(next_point_to_sample[0] * 1000.0)) \n",
      "        max_features =  int(round(next_point_to_sample[1] * 50))  \n",
      "        max_depth = int(round(next_point_to_sample[2] * 10))    \n",
      "        min_samples_leaf = int(round(next_point_to_sample[3] * 10))  \n",
      "        rfc = RandomForestClassifier(n_estimators=n_estimators, criterion='gini', \n",
      "            max_depth=max_depth, min_samples_split=2, min_samples_leaf=min_samples_leaf, min_weight_fraction_leaf=0.0,            \n",
      "            max_features=max_features, max_leaf_nodes=None, bootstrap=True, oob_score=False, n_jobs=-1, \n",
      "            random_state=None, verbose=0, warm_start=False, class_weight=None)\n",
      "        score_cv = cross_validation.cross_val_score(rfc, X_train, y_train, cv=10, scoring='accuracy')\n",
      "        value_of_next_point =  np.mean(score_cv) \n",
      "        if value_of_next_point > best_point_value:\n",
      "            best_point_value = value_of_next_point\n",
      "            best_point = next_point_to_sample          \n",
      "        if verbose:\n",
      "            print \"Sampled f({0:s}) = {1:.18E}\".format(str(next_point_to_sample), value_of_next_point)\n",
      "        # Add the information about the point to the experiment historical data to inform the GP\n",
      "        exp_rfc.historical_data.append_sample_points([SamplePoint(next_point_to_sample, -value_of_next_point, 0.0001)])  # We can add some noise\n",
      "    best_point[0] = int(round(best_point[0] * 1000))        \n",
      "    best_point[1] = int(round(best_point[1] * 50)) \n",
      "    best_point[2] = int(round(best_point[2] * 10))  \n",
      "    best_point[3] = int(round(best_point[3] * 10))    \n",
      "    return best_point, best_point_value\n"
     ],
     "language": "python",
     "metadata": {},
     "outputs": [],
     "prompt_number": 8
    },
    {
     "cell_type": "code",
     "collapsed": false,
     "input": [
      "def do_abc_MOE(num_points_to_sample, X_train, y_train, verbose=True, **kwargs):\n",
      "    exp_abc = Experiment([[0.005, 1], [0.1, 1]])  # n_estimators_range = [5, 1000] is normalized \n",
      "    best_point = []\n",
      "    best_point_value = 0.    \n",
      "    for _ in range(num_points_to_sample):\n",
      "        # Use MOE to determine what is the point with highest Expected Improvement to use next\n",
      "        next_point_to_sample = gp_next_points(exp_abc, rest_host='localhost', rest_port=6543, **kwargs)[0]  # By default we only ask for one point\n",
      "        # Sample the point from objective function\n",
      "        n_estimators = int(round(next_point_to_sample[0] * 1000.0))  \n",
      "        learning_rate =  next_point_to_sample[1]   \n",
      "        abc = AdaBoostClassifier((DecisionTreeClassifier(max_depth=2)),n_estimators=n_estimators, learning_rate=learning_rate)\n",
      "        score_cv = cross_validation.cross_val_score(abc, X_train, y_train, cv=10, scoring='accuracy')\n",
      "        value_of_next_point =  np.mean(score_cv) \n",
      "        if value_of_next_point > best_point_value:\n",
      "            best_point_value = value_of_next_point\n",
      "            best_point = next_point_to_sample          \n",
      "        if verbose:\n",
      "            print \"Sampled f({0:s}) = {1:.18E}\".format(str(next_point_to_sample), value_of_next_point)\n",
      "        # Add the information about the point to the experiment historical data to inform the GP\n",
      "        exp_abc.historical_data.append_sample_points([SamplePoint(next_point_to_sample, -value_of_next_point, 0.0001)])  # We can add some noise\n",
      "    best_point[0] = int(round(best_point[0] * 1000))        \n",
      "    return best_point, best_point_value"
     ],
     "language": "python",
     "metadata": {},
     "outputs": [],
     "prompt_number": 10
    },
    {
     "cell_type": "code",
     "collapsed": false,
     "input": [
      "    # Get Data\n",
      "    X_train, y_train, X_test, y_test = get_data('X_train_header.txt', 'y_train_header.txt', 'X_test_header.txt', 'y_test_header.txt')"
     ],
     "language": "python",
     "metadata": {},
     "outputs": [],
     "prompt_number": 11
    },
    {
     "cell_type": "code",
     "collapsed": false,
     "input": [
      "    num_points_to_sample = 100\n",
      "    # Get MOE best SVCLinear Model & it's metrics\n",
      "    moe_param, moe_accuracy = do_svc_linear_MOE(num_points_to_sample, X_train, y_train)\n",
      "    C_moe = moe_param[0]\n",
      "    svc_linear_moe = svm.LinearSVC(penalty='l2', loss='squared_hinge', dual=True, tol=0.0001, C=C_moe, multi_class='ovr',\n",
      "                    fit_intercept=True, intercept_scaling=1, class_weight=None, verbose=0, random_state=None, max_iter=1000)\n",
      "    svc_linear_moe.fit(X_train, y_train)\n",
      "    y_pred_svc_linear_moe = svc_linear_moe.predict(X_test)\n",
      "    print 'MOE SVCLinear Metrics:'\n",
      "    print 'Best C: ', C_moe\n",
      "    svc_linear_moe_acc, svc_linear_moe_prec, svc_linear_moe_rec, svc_linear_moe_cm, svc_linear_moe_cm_full = get_scores(y_test,y_pred_svc_linear_moe)"
     ],
     "language": "python",
     "metadata": {},
     "outputs": [
      {
       "output_type": "stream",
       "stream": "stdout",
       "text": [
        "Sampled f([0.302241739792]) = 9.500339994380831987E-01\n",
        "Sampled f([1.0]) = 9.477260704524791413E-01"
       ]
      },
      {
       "output_type": "stream",
       "stream": "stdout",
       "text": [
        "\n",
        "Sampled f([0.648867524177]) = 9.482656470382213598E-01"
       ]
      },
      {
       "output_type": "stream",
       "stream": "stdout",
       "text": [
        "\n",
        "Sampled f([1e-05]) = 9.493466951077179639E-01"
       ]
      },
      {
       "output_type": "stream",
       "stream": "stdout",
       "text": [
        "\n",
        "Sampled f([0.136034675824]) = 9.493548364665083117E-01"
       ]
      },
      {
       "output_type": "stream",
       "stream": "stdout",
       "text": [
        "\n",
        "Sampled f([0.384644023266]) = 9.481253499373554217E-01"
       ]
      },
      {
       "output_type": "stream",
       "stream": "stdout",
       "text": [
        "\n",
        "Sampled f([0.126585783603]) = 9.477119959764040980E-01"
       ]
      },
      {
       "output_type": "stream",
       "stream": "stdout",
       "text": [
        "\n",
        "Sampled f([0.839608914147]) = 9.497559770888586161E-01"
       ]
      },
      {
       "output_type": "stream",
       "stream": "stdout",
       "text": [
        "\n",
        "Sampled f([0.838101207203]) = 9.494868234850141198E-01"
       ]
      },
      {
       "output_type": "stream",
       "stream": "stdout",
       "text": [
        "\n",
        "Sampled f([1e-05]) = 9.493466951077179639E-01"
       ]
      },
      {
       "output_type": "stream",
       "stream": "stdout",
       "text": [
        "\n",
        "Sampled f([0.835264317014]) = 9.490782789440543876E-01"
       ]
      },
      {
       "output_type": "stream",
       "stream": "stdout",
       "text": [
        "\n",
        "Sampled f([1e-05]) = 9.493466951077179639E-01"
       ]
      },
      {
       "output_type": "stream",
       "stream": "stdout",
       "text": [
        "\n",
        "Sampled f([0.833022009285]) = 9.496267654884743559E-01"
       ]
      },
      {
       "output_type": "stream",
       "stream": "stdout",
       "text": [
        "\n",
        "Sampled f([1e-05]) = 9.493466951077179639E-01"
       ]
      },
      {
       "output_type": "stream",
       "stream": "stdout",
       "text": [
        "\n",
        "Sampled f([0.117881356846]) = 9.478482343337818472E-01"
       ]
      },
      {
       "output_type": "stream",
       "stream": "stdout",
       "text": [
        "\n",
        "Sampled f([0.643200685575]) = 9.496237956619124621E-01"
       ]
      },
      {
       "output_type": "stream",
       "stream": "stdout",
       "text": [
        "\n",
        "Sampled f([0.661119576674]) = 9.497568918484979861E-01"
       ]
      },
      {
       "output_type": "stream",
       "stream": "stdout",
       "text": [
        "\n",
        "Sampled f([0.784632774471]) = 9.493487316075098770E-01"
       ]
      },
      {
       "output_type": "stream",
       "stream": "stdout",
       "text": [
        "\n",
        "Sampled f([0.60401164474]) = 9.507148507857564601E-01"
       ]
      },
      {
       "output_type": "stream",
       "stream": "stdout",
       "text": [
        "\n",
        "Sampled f([0.540870043078]) = 9.504403201474319607E-01"
       ]
      },
      {
       "output_type": "stream",
       "stream": "stdout",
       "text": [
        "\n",
        "Sampled f([0.541944260116]) = 9.496191646223275384E-01"
       ]
      },
      {
       "output_type": "stream",
       "stream": "stdout",
       "text": [
        "\n",
        "Sampled f([0.545357929855]) = 9.497602354013305881E-01"
       ]
      },
      {
       "output_type": "stream",
       "stream": "stdout",
       "text": [
        "\n",
        "Sampled f([0.55663194288]) = 9.482634332395859511E-01"
       ]
      },
      {
       "output_type": "stream",
       "stream": "stdout",
       "text": [
        "\n",
        "Sampled f([1.0]) = 9.503022227126862731E-01"
       ]
      },
      {
       "output_type": "stream",
       "stream": "stdout",
       "text": [
        "\n",
        "Sampled f([1.0]) = 9.497607874668329009E-01"
       ]
      },
      {
       "output_type": "stream",
       "stream": "stdout",
       "text": [
        "\n",
        "Sampled f([1.0]) = 9.489466636328879323E-01"
       ]
      },
      {
       "output_type": "stream",
       "stream": "stdout",
       "text": [
        "\n",
        "Sampled f([1e-05]) = 9.493466951077179639E-01"
       ]
      },
      {
       "output_type": "stream",
       "stream": "stdout",
       "text": [
        "\n",
        "Sampled f([0.857438533058]) = 9.485388705823305511E-01"
       ]
      },
      {
       "output_type": "stream",
       "stream": "stdout",
       "text": [
        "\n",
        "Sampled f([0.437814462049]) = 9.490810613976226051E-01"
       ]
      },
      {
       "output_type": "stream",
       "stream": "stdout",
       "text": [
        "\n",
        "Sampled f([1.0]) = 9.505771230599788790E-01"
       ]
      },
      {
       "output_type": "stream",
       "stream": "stdout",
       "text": [
        "\n",
        "Sampled f([1.0]) = 9.503029742236481781E-01"
       ]
      },
      {
       "output_type": "stream",
       "stream": "stdout",
       "text": [
        "\n",
        "Sampled f([1.0]) = 9.505732314589462328E-01"
       ]
      },
      {
       "output_type": "stream",
       "stream": "stdout",
       "text": [
        "\n",
        "Sampled f([1.0]) = 9.481305204498108319E-01"
       ]
      },
      {
       "output_type": "stream",
       "stream": "stdout",
       "text": [
        "\n",
        "Sampled f([1e-05]) = 9.493466951077179639E-01"
       ]
      },
      {
       "output_type": "stream",
       "stream": "stdout",
       "text": [
        "\n",
        "Sampled f([0.440695851369]) = 9.471705486580852540E-01"
       ]
      },
      {
       "output_type": "stream",
       "stream": "stdout",
       "text": [
        "\n",
        "Sampled f([0.872253433039]) = 9.478587943909995150E-01"
       ]
      },
      {
       "output_type": "stream",
       "stream": "stdout",
       "text": [
        "\n",
        "Sampled f([1e-05]) = 9.493466951077179639E-01"
       ]
      },
      {
       "output_type": "stream",
       "stream": "stdout",
       "text": [
        "\n",
        "Sampled f([1.0]) = 9.496228643540730596E-01"
       ]
      },
      {
       "output_type": "stream",
       "stream": "stdout",
       "text": [
        "\n",
        "Sampled f([1.0]) = 9.477194064514129490E-01"
       ]
      },
      {
       "output_type": "stream",
       "stream": "stdout",
       "text": [
        "\n",
        "Sampled f([0.00137696420902]) = 9.500345585390318481E-01"
       ]
      },
      {
       "output_type": "stream",
       "stream": "stdout",
       "text": [
        "\n",
        "Sampled f([0.000600847179036]) = 9.496204822902439835E-01"
       ]
      },
      {
       "output_type": "stream",
       "stream": "stdout",
       "text": [
        "\n",
        "Sampled f([0.646824536733]) = 9.465039616986337112E-01"
       ]
      },
      {
       "output_type": "stream",
       "stream": "stdout",
       "text": [
        "\n",
        "Sampled f([0.00112997497332]) = 9.489477813762979830E-01"
       ]
      },
      {
       "output_type": "stream",
       "stream": "stdout",
       "text": [
        "\n",
        "Sampled f([0.136019084548]) = 9.438946523056908067E-01"
       ]
      },
      {
       "output_type": "stream",
       "stream": "stdout",
       "text": [
        "\n",
        "Sampled f([0.000100092594323]) = 9.520648525140307239E-01"
       ]
      },
      {
       "output_type": "stream",
       "stream": "stdout",
       "text": [
        "\n",
        "Sampled f([0.880234306111]) = 9.467588751621522913E-01"
       ]
      },
      {
       "output_type": "stream",
       "stream": "stdout",
       "text": [
        "\n",
        "Sampled f([9.12473486685e-05]) = 9.512499937790022120E-01"
       ]
      },
      {
       "output_type": "stream",
       "stream": "stdout",
       "text": [
        "\n",
        "Sampled f([0.000550719488878]) = 9.507033567991968193E-01"
       ]
      },
      {
       "output_type": "stream",
       "stream": "stdout",
       "text": [
        "\n",
        "Sampled f([0.00108111486191]) = 9.490819866692291606E-01"
       ]
      },
      {
       "output_type": "stream",
       "stream": "stdout",
       "text": [
        "\n",
        "Sampled f([0.416226635557]) = 9.466331798554167287E-01"
       ]
      },
      {
       "output_type": "stream",
       "stream": "stdout",
       "text": [
        "\n",
        "Sampled f([0.000180183801229]) = 9.507072539369115782E-01"
       ]
      },
      {
       "output_type": "stream",
       "stream": "stdout",
       "text": [
        "\n",
        "Sampled f([0.99977361528]) = 9.470383863802258606E-01"
       ]
      },
      {
       "output_type": "stream",
       "stream": "stdout",
       "text": [
        "\n",
        "Sampled f([0.000155260428012]) = 9.497545007509072823E-01"
       ]
      },
      {
       "output_type": "stream",
       "stream": "stdout",
       "text": [
        "\n",
        "Sampled f([0.000381670445128]) = 9.493474350458207534E-01"
       ]
      },
      {
       "output_type": "stream",
       "stream": "stdout",
       "text": [
        "\n",
        "Sampled f([0.643783732792]) = 9.507085484590545033E-01"
       ]
      },
      {
       "output_type": "stream",
       "stream": "stdout",
       "text": [
        "\n",
        "Sampled f([0.644405776615]) = 9.516620491593338338E-01"
       ]
      },
      {
       "output_type": "stream",
       "stream": "stdout",
       "text": [
        "\n",
        "Sampled f([0.644671784603]) = 9.490792011975723863E-01"
       ]
      },
      {
       "output_type": "stream",
       "stream": "stdout",
       "text": [
        "\n",
        "Sampled f([0.644580458007]) = 9.485277523409718636E-01"
       ]
      },
      {
       "output_type": "stream",
       "stream": "stdout",
       "text": [
        "\n",
        "Sampled f([0.861953581786]) = 9.509832609543618087E-01"
       ]
      },
      {
       "output_type": "stream",
       "stream": "stdout",
       "text": [
        "\n",
        "Sampled f([0.861294316054]) = 9.490823543798260209E-01"
       ]
      },
      {
       "output_type": "stream",
       "stream": "stdout",
       "text": [
        "\n",
        "Sampled f([0.00150984580576]) = 9.498957191472523487E-01"
       ]
      },
      {
       "output_type": "stream",
       "stream": "stdout",
       "text": [
        "\n",
        "Sampled f([0.000333094314989]) = 9.481310750132914134E-01"
       ]
      },
      {
       "output_type": "stream",
       "stream": "stdout",
       "text": [
        "\n",
        "Sampled f([0.862236218453]) = 9.494838506403635581E-01"
       ]
      },
      {
       "output_type": "stream",
       "stream": "stdout",
       "text": [
        "\n",
        "Sampled f([0.661937955069]) = 9.513934616918288123E-01"
       ]
      },
      {
       "output_type": "stream",
       "stream": "stdout",
       "text": [
        "\n",
        "Sampled f([0.661451754403]) = 9.451356372970813879E-01"
       ]
      },
      {
       "output_type": "stream",
       "stream": "stdout",
       "text": [
        "\n",
        "Sampled f([0.39591716287]) = 9.468924800379283635E-01"
       ]
      },
      {
       "output_type": "stream",
       "stream": "stdout",
       "text": [
        "\n",
        "Sampled f([0.998575405375]) = 9.473132363981097148E-01"
       ]
      },
      {
       "output_type": "stream",
       "stream": "stdout",
       "text": [
        "\n",
        "Sampled f([0.105829048529]) = 9.497626224816194673E-01"
       ]
      },
      {
       "output_type": "stream",
       "stream": "stdout",
       "text": [
        "\n",
        "Sampled f([0.106194665924]) = 9.497617162973096550E-01"
       ]
      },
      {
       "output_type": "stream",
       "stream": "stdout",
       "text": [
        "\n",
        "Sampled f([0.863589868862]) = 9.498947988921615515E-01"
       ]
      },
      {
       "output_type": "stream",
       "stream": "stdout",
       "text": [
        "\n",
        "Sampled f([0.0007078249092]) = 9.504368043121598220E-01"
       ]
      },
      {
       "output_type": "stream",
       "stream": "stdout",
       "text": [
        "\n",
        "Sampled f([0.106103783125]) = 9.508453508720504654E-01"
       ]
      },
      {
       "output_type": "stream",
       "stream": "stdout",
       "text": [
        "\n",
        "Sampled f([0.106023244968]) = 9.486719597129104065E-01"
       ]
      },
      {
       "output_type": "stream",
       "stream": "stdout",
       "text": [
        "\n",
        "Sampled f([6.72266190105e-05]) = 9.516574261543532254E-01"
       ]
      },
      {
       "output_type": "stream",
       "stream": "stdout",
       "text": [
        "\n",
        "Sampled f([0.00155161606817]) = 9.471777722597070071E-01"
       ]
      },
      {
       "output_type": "stream",
       "stream": "stdout",
       "text": [
        "\n",
        "Sampled f([0.864312657126]) = 9.503048273471890184E-01"
       ]
      },
      {
       "output_type": "stream",
       "stream": "stdout",
       "text": [
        "\n",
        "Sampled f([0.863286118615]) = 9.492184042826469215E-01"
       ]
      },
      {
       "output_type": "stream",
       "stream": "stdout",
       "text": [
        "\n",
        "Sampled f([0.107427982743]) = 9.490860706803306845E-01"
       ]
      },
      {
       "output_type": "stream",
       "stream": "stdout",
       "text": [
        "\n",
        "Sampled f([0.350212353155]) = 9.494820070708067661E-01"
       ]
      },
      {
       "output_type": "stream",
       "stream": "stdout",
       "text": [
        "\n",
        "Sampled f([0.868182416554]) = 9.489452023649315171E-01"
       ]
      },
      {
       "output_type": "stream",
       "stream": "stdout",
       "text": [
        "\n",
        "Sampled f([0.999784878386]) = 9.455366016196897760E-01"
       ]
      },
      {
       "output_type": "stream",
       "stream": "stdout",
       "text": [
        "\n",
        "Sampled f([0.11022125687]) = 9.479848422559878918E-01"
       ]
      },
      {
       "output_type": "stream",
       "stream": "stdout",
       "text": [
        "\n",
        "Sampled f([0.000618499137817]) = 9.505728642685153940E-01"
       ]
      },
      {
       "output_type": "stream",
       "stream": "stdout",
       "text": [
        "\n",
        "Sampled f([0.685684986197]) = 9.441939957136307182E-01"
       ]
      },
      {
       "output_type": "stream",
       "stream": "stdout",
       "text": [
        "\n",
        "Sampled f([0.34772903949]) = 9.507157725602271015E-01"
       ]
      },
      {
       "output_type": "stream",
       "stream": "stdout",
       "text": [
        "\n",
        "Sampled f([0.346425224585]) = 9.500299310171422817E-01"
       ]
      },
      {
       "output_type": "stream",
       "stream": "stdout",
       "text": [
        "\n",
        "Sampled f([0.346875994144]) = 9.464987956619121956E-01"
       ]
      },
      {
       "output_type": "stream",
       "stream": "stdout",
       "text": [
        "\n",
        "Sampled f([0.00110143340871]) = 9.498990612218799479E-01"
       ]
      },
      {
       "output_type": "stream",
       "stream": "stdout",
       "text": [
        "\n",
        "Sampled f([0.00123399115107]) = 9.496223173050303279E-01"
       ]
      },
      {
       "output_type": "stream",
       "stream": "stdout",
       "text": [
        "\n",
        "Sampled f([0.00056912863821]) = 9.503038980171055750E-01"
       ]
      },
      {
       "output_type": "stream",
       "stream": "stdout",
       "text": [
        "\n",
        "Sampled f([0.114216133148]) = 9.473053025399982285E-01"
       ]
      },
      {
       "output_type": "stream",
       "stream": "stdout",
       "text": [
        "\n",
        "Sampled f([0.000423139423034]) = 9.497589353425617276E-01"
       ]
      },
      {
       "output_type": "stream",
       "stream": "stdout",
       "text": [
        "\n",
        "Sampled f([0.880898708302]) = 9.490860550901698556E-01"
       ]
      },
      {
       "output_type": "stream",
       "stream": "stdout",
       "text": [
        "\n",
        "Sampled f([0.000368870161734]) = 9.494949643441976672E-01"
       ]
      },
      {
       "output_type": "stream",
       "stream": "stdout",
       "text": [
        "\n",
        "Sampled f([0.880657009805]) = 9.471788819068341914E-01"
       ]
      },
      {
       "output_type": "stream",
       "stream": "stdout",
       "text": [
        "\n",
        "Sampled f([0.367575837482]) = 9.490786652629568110E-01"
       ]
      },
      {
       "output_type": "stream",
       "stream": "stdout",
       "text": [
        "\n",
        "Sampled f([0.99904530397]) = 9.486688135660472643E-01"
       ]
      },
      {
       "output_type": "stream",
       "stream": "stdout",
       "text": [
        "\n",
        "Sampled f([0.000393490601641]) = 9.505756497401721683E-01"
       ]
      },
      {
       "output_type": "stream",
       "stream": "stdout",
       "text": [
        "\n",
        "Sampled f([0.000502094760484]) = 9.500275394405601759E-01"
       ]
      },
      {
       "output_type": "stream",
       "stream": "stdout",
       "text": [
        "\n",
        "Sampled f([0.113171920617]) = 9.484017130308097787E-01"
       ]
      },
      {
       "output_type": "stream",
       "stream": "stdout",
       "text": [
        "\n",
        "MOE SVCLinear Metrics:"
       ]
      },
      {
       "output_type": "stream",
       "stream": "stdout",
       "text": [
        "\n",
        "Best C:  1.00092594323\n",
        "Accuracy:  96.5\n",
        "Precision:  96.84\n",
        "Recall:  96.46\n",
        "Macro Precision:  96.69\n",
        "Macro Recall:  96.5\n",
        "Confusion Matrix (Activities: Walking, Upstairs, Downstairs, Standing, Sitting, Laying\n",
        "[[496   0   0   0   0   0]\n",
        " [ 17 454   0   0   0   0]\n",
        " [  2   5 413   0   0   0]\n",
        " [  0   4   0 421  64   2]\n",
        " [  1   0   0   8 523   0]\n",
        " [  0   0   0   0   0 537]]\n",
        "Confusion Matrix & Scores (Actual Activities & Precision vs. Predicted Activies & Recall; Total Accuracy)\n",
        "[[ 496.      0.      0.      0.      0.      0.    100.  ]\n",
        " [  17.    454.      0.      0.      0.      0.     96.39]\n",
        " [   2.      5.    413.      0.      0.      0.     98.33]\n",
        " [   0.      4.      0.    421.     64.      2.     85.74]\n",
        " [   1.      0.      0.      8.    523.      0.     98.31]\n",
        " [   0.      0.      0.      0.      0.    537.    100.  ]\n",
        " [  96.12   98.06  100.     98.14   89.1    99.63   96.5 ]]\n"
       ]
      }
     ],
     "prompt_number": 12
    },
    {
     "cell_type": "code",
     "collapsed": false,
     "input": [
      "    # Get MOE best SVC rbf Model & it's metrics\n",
      "    rbf_moe_param, rbf_moe_accuracy = do_svc_rbf_MOE(num_points_to_sample, X_train, y_train)\n",
      "    C_rbf_moe = rbf_moe_param[0]\n",
      "    gamma_rbf_moe = rbf_moe_param[1]\n",
      "    svc_rbf_moe = svm.SVC(C=C_rbf_moe, kernel='rbf', degree=3, gamma=gamma_rbf_moe, \n",
      "            coef0=0.0, shrinking=True, probability=False, tol=0.001, cache_size=200, class_weight=None, verbose=False,\n",
      "            max_iter=-1, random_state=None)\n",
      "    svc_rbf_moe.fit(X_train, y_train)\n",
      "    y_pred_svc_rbf_moe = svc_rbf_moe.predict(X_test)\n",
      "    print 'MOE SVC RBF Metrics:'\n",
      "    print 'Best C_rbf_moe: ', C_rbf_moe \n",
      "    print 'Best gamma_rbf_moe: ', gamma_rbf_moe\n",
      "    svc_rbf_moe_acc, svc_rbf_moe_prec, svc_rbf_moe_rec, svc_rbf_moe_cm, svc_rbf_moe_cm_full = get_scores(y_test,y_pred_svc_rbf_moe)\n"
     ],
     "language": "python",
     "metadata": {},
     "outputs": [
      {
       "output_type": "stream",
       "stream": "stdout",
       "text": [
        "Sampled f([0.0730185336087, 0.84603551678]) = 2.437590904881547504E-01\n",
        "Sampled f([1.0, 1e-08]) = 8.153401754589382211E-01"
       ]
      },
      {
       "output_type": "stream",
       "stream": "stdout",
       "text": [
        "\n",
        "Sampled f([1.0, 0.924431780333]) = 2.196843901996775872E-01"
       ]
      },
      {
       "output_type": "stream",
       "stream": "stdout",
       "text": [
        "\n",
        "Sampled f([0.220637759515, 1e-08]) = 5.462475390183594293E-01"
       ]
      },
      {
       "output_type": "stream",
       "stream": "stdout",
       "text": [
        "\n",
        "Sampled f([0.775618285657, 1e-08]) = 7.660845246233637384E-01"
       ]
      },
      {
       "output_type": "stream",
       "stream": "stdout",
       "text": [
        "\n",
        "Sampled f([1.0, 0.200377176317]) = 8.273593742515730209E-01"
       ]
      },
      {
       "output_type": "stream",
       "stream": "stdout",
       "text": [
        "\n",
        "Sampled f([1.0, 0.128070643062]) = 9.056719978772322932E-01"
       ]
      },
      {
       "output_type": "stream",
       "stream": "stdout",
       "text": [
        "\n",
        "Sampled f([0.609961697711, 0.335405249253]) = 6.967054090936738442E-01"
       ]
      },
      {
       "output_type": "stream",
       "stream": "stdout",
       "text": [
        "\n",
        "Sampled f([0.0079289618821, 0.366869106443]) = 7.146605296014507669E-01"
       ]
      },
      {
       "output_type": "stream",
       "stream": "stdout",
       "text": [
        "\n",
        "Sampled f([0.985541740589, 0.227055923301]) = 7.920059151011966669E-01"
       ]
      },
      {
       "output_type": "stream",
       "stream": "stdout",
       "text": [
        "\n",
        "Sampled f([0.00475754264327, 0.0746584152084]) = 9.398146627366184003E-01"
       ]
      },
      {
       "output_type": "stream",
       "stream": "stdout",
       "text": [
        "\n",
        "Sampled f([0.00940707498396, 0.0953405666885]) = 9.288035690887616047E-01"
       ]
      },
      {
       "output_type": "stream",
       "stream": "stdout",
       "text": [
        "\n",
        "Sampled f([1e-05, 1e-08]) = 1.913769707674444209E-01"
       ]
      },
      {
       "output_type": "stream",
       "stream": "stdout",
       "text": [
        "\n",
        "Sampled f([0.165932084079, 0.213367410247]) = 8.103594022091693549E-01"
       ]
      },
      {
       "output_type": "stream",
       "stream": "stdout",
       "text": [
        "\n",
        "Sampled f([1e-05, 0.230576135907]) = 4.801620998114972672E-01"
       ]
      },
      {
       "output_type": "stream",
       "stream": "stdout",
       "text": [
        "\n",
        "Sampled f([0.551070259072, 0.996105346578]) = 2.040353542115314889E-01"
       ]
      },
      {
       "output_type": "stream",
       "stream": "stdout",
       "text": [
        "\n",
        "Sampled f([0.7386285894, 0.126117523333]) = 9.075771466332975823E-01"
       ]
      },
      {
       "output_type": "stream",
       "stream": "stdout",
       "text": [
        "\n",
        "Sampled f([0.745455974178, 0.13454231663]) = 8.996881142773547335E-01"
       ]
      },
      {
       "output_type": "stream",
       "stream": "stdout",
       "text": [
        "\n",
        "Sampled f([0.574209311347, 0.142565325039]) = 8.928821604133483358E-01"
       ]
      },
      {
       "output_type": "stream",
       "stream": "stdout",
       "text": [
        "\n",
        "Sampled f([0.749172232394, 0.130283719062]) = 9.041772327147746813E-01"
       ]
      },
      {
       "output_type": "stream",
       "stream": "stdout",
       "text": [
        "\n",
        "Sampled f([0.406745448676, 0.177837939118]) = 8.519648054643956803E-01"
       ]
      },
      {
       "output_type": "stream",
       "stream": "stdout",
       "text": [
        "\n",
        "Sampled f([0.805842662636, 0.134365464321]) = 8.996881142773547335E-01"
       ]
      },
      {
       "output_type": "stream",
       "stream": "stdout",
       "text": [
        "\n",
        "Sampled f([0.801253619168, 0.141238631208]) = 8.939700553194922517E-01"
       ]
      },
      {
       "output_type": "stream",
       "stream": "stdout",
       "text": [
        "\n",
        "Sampled f([0.980542889955, 0.102502585362]) = 9.243113136205902691E-01"
       ]
      },
      {
       "output_type": "stream",
       "stream": "stdout",
       "text": [
        "\n",
        "Sampled f([0.868353411293, 0.118474417947]) = 9.138368423014036068E-01"
       ]
      },
      {
       "output_type": "stream",
       "stream": "stdout",
       "text": [
        "\n",
        "Sampled f([0.999322797039, 0.0708177546202]) = 9.414441872970000791E-01"
       ]
      },
      {
       "output_type": "stream",
       "stream": "stdout",
       "text": [
        "\n",
        "Sampled f([0.996857496835, 0.128382729793]) = 9.055363101483825394E-01"
       ]
      },
      {
       "output_type": "stream",
       "stream": "stdout",
       "text": [
        "\n",
        "Sampled f([0.983798529479, 0.0916101663793]) = 9.307085410249191781E-01"
       ]
      },
      {
       "output_type": "stream",
       "stream": "stdout",
       "text": [
        "\n",
        "Sampled f([0.964556039827, 0.103267878306]) = 9.239025907403982663E-01"
       ]
      },
      {
       "output_type": "stream",
       "stream": "stdout",
       "text": [
        "\n",
        "Sampled f([0.985972032634, 0.0671223462296]) = 9.432140170339705643E-01"
       ]
      },
      {
       "output_type": "stream",
       "stream": "stdout",
       "text": [
        "\n",
        "Sampled f([0.835736401026, 0.11777960541]) = 9.141089531597377249E-01"
       ]
      },
      {
       "output_type": "stream",
       "stream": "stdout",
       "text": [
        "\n",
        "Sampled f([0.993094102556, 0.128217106774]) = 9.055363101483825394E-01"
       ]
      },
      {
       "output_type": "stream",
       "stream": "stdout",
       "text": [
        "\n",
        "Sampled f([0.969600204894, 0.0898705036903]) = 9.319311963282006506E-01"
       ]
      },
      {
       "output_type": "stream",
       "stream": "stdout",
       "text": [
        "\n",
        "Sampled f([0.974673620292, 0.0523033331548]) = 9.509647555071252256E-01"
       ]
      },
      {
       "output_type": "stream",
       "stream": "stdout",
       "text": [
        "\n",
        "Sampled f([0.984888280114, 0.11241523359]) = 9.170986753745553610E-01"
       ]
      },
      {
       "output_type": "stream",
       "stream": "stdout",
       "text": [
        "\n",
        "Sampled f([0.880013061043, 0.110092205523]) = 9.188670383275587827E-01"
       ]
      },
      {
       "output_type": "stream",
       "stream": "stdout",
       "text": [
        "\n",
        "Sampled f([0.993580039334, 0.0765299180929]) = 9.389981427885671916E-01"
       ]
      },
      {
       "output_type": "stream",
       "stream": "stdout",
       "text": [
        "\n",
        "Sampled f([0.990103389664, 0.0375428556466]) = 9.557250307870266415E-01"
       ]
      },
      {
       "output_type": "stream",
       "stream": "stdout",
       "text": [
        "\n",
        "Sampled f([0.978913648709, 0.0754182938495]) = 9.394059418753574198E-01"
       ]
      },
      {
       "output_type": "stream",
       "stream": "stdout",
       "text": [
        "\n",
        "Sampled f([0.998224516136, 0.057715386402]) = 9.485166740199089119E-01"
       ]
      },
      {
       "output_type": "stream",
       "stream": "stdout",
       "text": [
        "\n",
        "Sampled f([0.986250545956, 0.0303017988176]) = 9.564036376552376151E-01"
       ]
      },
      {
       "output_type": "stream",
       "stream": "stdout",
       "text": [
        "\n",
        "Sampled f([0.966922166447, 0.042639701978]) = 9.550441970485008536E-01"
       ]
      },
      {
       "output_type": "stream",
       "stream": "stdout",
       "text": [
        "\n",
        "Sampled f([0.972377460169, 0.0409862100514]) = 9.554519931171470137E-01"
       ]
      },
      {
       "output_type": "stream",
       "stream": "stdout",
       "text": [
        "\n",
        "Sampled f([0.999116597956, 0.0787345304549]) = 9.377753056489179784E-01"
       ]
      },
      {
       "output_type": "stream",
       "stream": "stdout",
       "text": [
        "\n",
        "Sampled f([0.971418144811, 0.0288400393905]) = 9.559954723771740825E-01"
       ]
      },
      {
       "output_type": "stream",
       "stream": "stdout",
       "text": [
        "\n",
        "Sampled f([0.991609082446, 0.0672661392505]) = 9.430775913859485993E-01"
       ]
      },
      {
       "output_type": "stream",
       "stream": "stdout",
       "text": [
        "\n",
        "Sampled f([0.992965229724, 0.0549995406525]) = 9.504205307723131435E-01"
       ]
      },
      {
       "output_type": "stream",
       "stream": "stdout",
       "text": [
        "\n",
        "Sampled f([0.970223799151, 0.0159278655682]) = 9.585814578899094496E-01"
       ]
      },
      {
       "output_type": "stream",
       "stream": "stdout",
       "text": [
        "\n",
        "Sampled f([0.971703096608, 0.0192992263281]) = 9.585820225274845896E-01"
       ]
      },
      {
       "output_type": "stream",
       "stream": "stdout",
       "text": [
        "\n",
        "Sampled f([0.995677126865, 0.0787981417892]) = 9.376398042939044775E-01"
       ]
      },
      {
       "output_type": "stream",
       "stream": "stdout",
       "text": [
        "\n",
        "Sampled f([0.961496012873, 0.00856492702193]) = 9.568167981451723980E-01"
       ]
      },
      {
       "output_type": "stream",
       "stream": "stdout",
       "text": [
        "\n",
        "Sampled f([0.963723248562, 0.0105186012825]) = 9.577664117612719741E-01"
       ]
      },
      {
       "output_type": "stream",
       "stream": "stdout",
       "text": [
        "\n",
        "Sampled f([0.989708507758, 0.0306956066454]) = 9.559947304201404927E-01"
       ]
      },
      {
       "output_type": "stream",
       "stream": "stdout",
       "text": [
        "\n",
        "Sampled f([0.975871279373, 0.055428031013]) = 9.504205307723131435E-01"
       ]
      },
      {
       "output_type": "stream",
       "stream": "stdout",
       "text": [
        "\n",
        "Sampled f([0.993336079237, 0.0819837632089]) = 9.364156686148102926E-01"
       ]
      },
      {
       "output_type": "stream",
       "stream": "stdout",
       "text": [
        "\n",
        "Sampled f([0.956416306994, 0.00647310007945]) = 9.562751634538596557E-01"
       ]
      },
      {
       "output_type": "stream",
       "stream": "stdout",
       "text": [
        "\n",
        "Sampled f([0.990787767664, 0.0355842948698]) = 9.559969572904553070E-01"
       ]
      },
      {
       "output_type": "stream",
       "stream": "stdout",
       "text": [
        "\n",
        "Sampled f([0.998830008867, 0.0051172546623]) = 9.553268473780474057E-01"
       ]
      },
      {
       "output_type": "stream",
       "stream": "stdout",
       "text": [
        "\n",
        "Sampled f([0.983628756521, 0.0547097982714]) = 9.505569564203348865E-01"
       ]
      },
      {
       "output_type": "stream",
       "stream": "stdout",
       "text": [
        "\n",
        "Sampled f([0.993782996905, 0.0280573854264]) = 9.559962148338145838E-01"
       ]
      },
      {
       "output_type": "stream",
       "stream": "stdout",
       "text": [
        "\n",
        "Sampled f([0.968342966915, 0.0712986458487]) = 9.413085020866880370E-01"
       ]
      },
      {
       "output_type": "stream",
       "stream": "stdout",
       "text": [
        "\n",
        "Sampled f([0.960753806497, 0.0708600409809]) = 9.414441872970000791E-01"
       ]
      },
      {
       "output_type": "stream",
       "stream": "stdout",
       "text": [
        "\n",
        "Sampled f([0.961972779699, 0.00286615801042]) = 9.539662729381328532E-01"
       ]
      },
      {
       "output_type": "stream",
       "stream": "stdout",
       "text": [
        "\n",
        "Sampled f([1.0, 0.00836801697638]) = 9.568167981451723980E-01"
       ]
      },
      {
       "output_type": "stream",
       "stream": "stdout",
       "text": [
        "\n",
        "Sampled f([0.994426605716, 0.0491167464313]) = 9.523238294229819934E-01"
       ]
      },
      {
       "output_type": "stream",
       "stream": "stdout",
       "text": [
        "\n",
        "Sampled f([0.983006183347, 0.0465831578528]) = 9.536845685691636154E-01"
       ]
      },
      {
       "output_type": "stream",
       "stream": "stdout",
       "text": [
        "\n",
        "Sampled f([0.982172408293, 0.0603619143026]) = 9.471563025637650401E-01"
       ]
      },
      {
       "output_type": "stream",
       "stream": "stdout",
       "text": [
        "\n",
        "Sampled f([0.988883633261, 0.037614150685]) = 9.557250307870266415E-01"
       ]
      },
      {
       "output_type": "stream",
       "stream": "stdout",
       "text": [
        "\n",
        "Sampled f([0.991814964493, 0.0454498578874]) = 9.545012698539758755E-01"
       ]
      },
      {
       "output_type": "stream",
       "stream": "stdout",
       "text": [
        "\n",
        "Sampled f([0.998321529496, 0.0413900659731]) = 9.557231796824725567E-01"
       ]
      },
      {
       "output_type": "stream",
       "stream": "stdout",
       "text": [
        "\n",
        "Sampled f([0.972162887165, 0.0446640544757]) = 9.545003430424301438E-01"
       ]
      },
      {
       "output_type": "stream",
       "stream": "stdout",
       "text": [
        "\n",
        "Sampled f([0.993679662636, 0.0327100032086]) = 9.555871217244883420E-01"
       ]
      },
      {
       "output_type": "stream",
       "stream": "stdout",
       "text": [
        "\n",
        "Sampled f([0.985575216877, 0.0442499871507]) = 9.546358443974437558E-01"
       ]
      },
      {
       "output_type": "stream",
       "stream": "stdout",
       "text": [
        "\n",
        "Sampled f([0.993446164517, 0.00671385442615]) = 9.562751634538596557E-01"
       ]
      },
      {
       "output_type": "stream",
       "stream": "stdout",
       "text": [
        "\n",
        "Sampled f([0.99087218614, 0.0503306014238]) = 9.521883305865059821E-01"
       ]
      },
      {
       "output_type": "stream",
       "stream": "stdout",
       "text": [
        "\n",
        "Sampled f([0.984694039068, 0.0195258683353]) = 9.585820225274845896E-01"
       ]
      },
      {
       "output_type": "stream",
       "stream": "stdout",
       "text": [
        "\n",
        "Sampled f([0.995151748785, 0.0108770298627]) = 9.576303568419914924E-01"
       ]
      },
      {
       "output_type": "stream",
       "stream": "stdout",
       "text": [
        "\n",
        "Sampled f([0.924687680823, 0.0137055357051]) = 9.585818265997204657E-01"
       ]
      },
      {
       "output_type": "stream",
       "stream": "stdout",
       "text": [
        "\n",
        "Sampled f([0.984291449297, 0.0493853659215]) = 9.524604414448398781E-01"
       ]
      },
      {
       "output_type": "stream",
       "stream": "stdout",
       "text": [
        "\n",
        "Sampled f([0.994822370868, 0.0529265268644]) = 9.508290702968130725E-01"
       ]
      },
      {
       "output_type": "stream",
       "stream": "stdout",
       "text": [
        "\n",
        "Sampled f([0.985460659023, 0.0564147608541]) = 9.494675836569157479E-01"
       ]
      },
      {
       "output_type": "stream",
       "stream": "stdout",
       "text": [
        "\n",
        "Sampled f([0.991588918946, 0.0285322730601]) = 9.561320843990319673E-01"
       ]
      },
      {
       "output_type": "stream",
       "stream": "stdout",
       "text": [
        "\n",
        "Sampled f([1.0, 0.0237776741888]) = 9.581764447743827962E-01"
       ]
      },
      {
       "output_type": "stream",
       "stream": "stdout",
       "text": [
        "\n",
        "Sampled f([1.0, 0.02436684008]) = 9.579034071045029464E-01"
       ]
      },
      {
       "output_type": "stream",
       "stream": "stdout",
       "text": [
        "\n",
        "Sampled f([0.848076333735, 0.0750294622462]) = 9.395423675233793848E-01"
       ]
      },
      {
       "output_type": "stream",
       "stream": "stdout",
       "text": [
        "\n",
        "Sampled f([0.993107192411, 0.0594593501484]) = 9.476996020063552795E-01"
       ]
      },
      {
       "output_type": "stream",
       "stream": "stdout",
       "text": [
        "\n",
        "Sampled f([1.0, 0.00830303797598]) = 9.568167981451723980E-01"
       ]
      },
      {
       "output_type": "stream",
       "stream": "stdout",
       "text": [
        "\n",
        "Sampled f([0.994566645573, 0.0421674377021]) = 9.551806226965228186E-01"
       ]
      },
      {
       "output_type": "stream",
       "stream": "stdout",
       "text": [
        "\n",
        "Sampled f([1.0, 0.0210111138193]) = 9.583110198174574768E-01"
       ]
      },
      {
       "output_type": "stream",
       "stream": "stdout",
       "text": [
        "\n",
        "Sampled f([0.930751035541, 0.00091686031788]) = 9.517915917737587161E-01"
       ]
      },
      {
       "output_type": "stream",
       "stream": "stdout",
       "text": [
        "\n",
        "Sampled f([0.99602902854, 0.0489365090906]) = 9.523238294229819934E-01"
       ]
      },
      {
       "output_type": "stream",
       "stream": "stdout",
       "text": [
        "\n",
        "Sampled f([0.974617051384, 0.0131794740358]) = 9.584455827880662415E-01"
       ]
      },
      {
       "output_type": "stream",
       "stream": "stdout",
       "text": [
        "\n",
        "Sampled f([0.982856442391, 0.0375971608934]) = 9.557250307870266415E-01"
       ]
      },
      {
       "output_type": "stream",
       "stream": "stdout",
       "text": [
        "\n",
        "Sampled f([0.972631396294, 0.0245181140827]) = 9.579034071045029464E-01"
       ]
      },
      {
       "output_type": "stream",
       "stream": "stdout",
       "text": [
        "\n",
        "Sampled f([0.99410170548, 0.045146048874]) = 9.545012698539758755E-01"
       ]
      },
      {
       "output_type": "stream",
       "stream": "stdout",
       "text": [
        "\n",
        "Sampled f([0.976800438836, 0.00780033022082]) = 9.568171663553762807E-01"
       ]
      },
      {
       "output_type": "stream",
       "stream": "stdout",
       "text": [
        "\n",
        "Sampled f([1.0, 0.0210095725295]) = 9.583110198174574768E-01"
       ]
      },
      {
       "output_type": "stream",
       "stream": "stdout",
       "text": [
        "\n",
        "Sampled f([0.99624865591, 0.0540455125932]) = 9.506931982130580883E-01"
       ]
      },
      {
       "output_type": "stream",
       "stream": "stdout",
       "text": [
        "\n",
        "Sampled f([1.0, 0.0209113369921]) = 9.583110198174574768E-01"
       ]
      },
      {
       "output_type": "stream",
       "stream": "stdout",
       "text": [
        "\n",
        "Sampled f([0.983621392295, 0.0377018985955]) = 9.558609003522440251E-01"
       ]
      },
      {
       "output_type": "stream",
       "stream": "stdout",
       "text": [
        "\n",
        "MOE SVC RBF Metrics:"
       ]
      },
      {
       "output_type": "stream",
       "stream": "stdout",
       "text": [
        "\n",
        "Best C_rbf_moe:  9717.03096608\n",
        "Best gamma_rbf_moe:  0.0192992263281\n",
        "Accuracy:  96.5\n",
        "Precision:  96.64\n",
        "Recall:  96.33\n",
        "Macro Precision:  96.61\n",
        "Macro Recall:  96.5\n",
        "Confusion Matrix (Activities: Walking, Upstairs, Downstairs, Standing, Sitting, Laying\n",
        "[[487   6   3   0   0   0]\n",
        " [ 12 457   2   0   0   0]\n",
        " [  5  26 389   0   0   0]\n",
        " [  0   2   0 449  40   0]\n",
        " [  0   0   0   7 525   0]\n",
        " [  0   0   0   0   0 537]]\n",
        "Confusion Matrix & Scores (Actual Activities & Precision vs. Predicted Activies & Recall; Total Accuracy)\n",
        "[[ 487.      6.      3.      0.      0.      0.     98.19]\n",
        " [  12.    457.      2.      0.      0.      0.     97.03]\n",
        " [   5.     26.    389.      0.      0.      0.     92.62]\n",
        " [   0.      2.      0.    449.     40.      0.     91.45]\n",
        " [   0.      0.      0.      7.    525.      0.     98.68]\n",
        " [   0.      0.      0.      0.      0.    537.    100.  ]\n",
        " [  96.63   93.08   98.73   98.46   92.92  100.     96.5 ]]\n"
       ]
      }
     ],
     "prompt_number": 13
    },
    {
     "cell_type": "code",
     "collapsed": false,
     "input": [
      "    # Get MOE best RFC Model  & it's metrics\n",
      "    rfc_moe_param, rfc_moe_accuracy = do_rfc_MOE(num_points_to_sample, X_train, y_train)\n",
      "    n_estimators = rfc_moe_param[0]\n",
      "    max_features = rfc_moe_param[1] \n",
      "    max_depth = rfc_moe_param[2]\n",
      "    min_samples_leaf = rfc_moe_param[3]\n",
      "    rfc_moe = RandomForestClassifier(n_estimators=n_estimators, criterion='gini', \n",
      "            max_depth=max_depth, min_samples_split=2, min_samples_leaf=min_samples_leaf, min_weight_fraction_leaf=0.0,            \n",
      "            max_features=max_features, max_leaf_nodes=None, bootstrap=True, oob_score=False, n_jobs=1, \n",
      "            random_state=None, verbose=0, warm_start=False, class_weight=None)\n",
      "    rfc_moe.fit(X_train, y_train)\n",
      "    y_pred_rfc_moe = rfc_moe.predict(X_test)\n",
      "    print 'MOE RFC Metrics: '\n",
      "    print 'Best n_estimators: ', n_estimators\n",
      "    print 'Best max_features: ', max_features\n",
      "    print 'Best max_depth: ', max_depth\n",
      "    print 'Best min_samples_leaf: ', min_samples_leaf\n",
      "    rfc_moe_acc, rfc_moe_prec, rfc_moe_rec, rfc_moe_cm, rfc_moe_cm_full = get_scores(y_test,y_pred_rfc_moe)\n",
      "\n"
     ],
     "language": "python",
     "metadata": {},
     "outputs": [
      {
       "ename": "KeyboardInterrupt",
       "evalue": "",
       "output_type": "pyerr",
       "traceback": [
        "\u001b[0;31m---------------------------------------------------------------------------\u001b[0m\n\u001b[0;31mKeyboardInterrupt\u001b[0m                         Traceback (most recent call last)",
        "\u001b[0;32m<ipython-input-16-685099acd315>\u001b[0m in \u001b[0;36m<module>\u001b[0;34m()\u001b[0m\n\u001b[1;32m      1\u001b[0m \u001b[0;31m# Get MOE best RFC Model  & it's metrics\u001b[0m\u001b[0;34m\u001b[0m\u001b[0;34m\u001b[0m\u001b[0m\n\u001b[0;32m----> 2\u001b[0;31m \u001b[0mrfc_moe_param\u001b[0m\u001b[0;34m,\u001b[0m \u001b[0mrfc_moe_accuracy\u001b[0m \u001b[0;34m=\u001b[0m \u001b[0mdo_rfc_MOE\u001b[0m\u001b[0;34m(\u001b[0m\u001b[0mnum_points_to_sample\u001b[0m\u001b[0;34m,\u001b[0m \u001b[0mX_train\u001b[0m\u001b[0;34m,\u001b[0m \u001b[0my_train\u001b[0m\u001b[0;34m)\u001b[0m\u001b[0;34m\u001b[0m\u001b[0m\n\u001b[0m\u001b[1;32m      3\u001b[0m \u001b[0mn_estimators\u001b[0m \u001b[0;34m=\u001b[0m \u001b[0mrfc_moe_param\u001b[0m\u001b[0;34m[\u001b[0m\u001b[0;36m0\u001b[0m\u001b[0;34m]\u001b[0m\u001b[0;34m\u001b[0m\u001b[0m\n\u001b[1;32m      4\u001b[0m \u001b[0mmax_features\u001b[0m \u001b[0;34m=\u001b[0m \u001b[0mrfc_moe_param\u001b[0m\u001b[0;34m[\u001b[0m\u001b[0;36m1\u001b[0m\u001b[0;34m]\u001b[0m\u001b[0;34m\u001b[0m\u001b[0m\n\u001b[1;32m      5\u001b[0m \u001b[0mmax_depth\u001b[0m \u001b[0;34m=\u001b[0m \u001b[0mrfc_moe_param\u001b[0m\u001b[0;34m[\u001b[0m\u001b[0;36m2\u001b[0m\u001b[0;34m]\u001b[0m\u001b[0;34m\u001b[0m\u001b[0m\n",
        "\u001b[0;32m<ipython-input-8-86a4b49caf28>\u001b[0m in \u001b[0;36mdo_rfc_MOE\u001b[0;34m(num_points_to_sample, X_train, y_train, verbose, **kwargs)\u001b[0m\n\u001b[1;32m     16\u001b[0m             \u001b[0mmax_features\u001b[0m\u001b[0;34m=\u001b[0m\u001b[0mmax_features\u001b[0m\u001b[0;34m,\u001b[0m \u001b[0mmax_leaf_nodes\u001b[0m\u001b[0;34m=\u001b[0m\u001b[0mNone\u001b[0m\u001b[0;34m,\u001b[0m \u001b[0mbootstrap\u001b[0m\u001b[0;34m=\u001b[0m\u001b[0mTrue\u001b[0m\u001b[0;34m,\u001b[0m \u001b[0moob_score\u001b[0m\u001b[0;34m=\u001b[0m\u001b[0mFalse\u001b[0m\u001b[0;34m,\u001b[0m \u001b[0mn_jobs\u001b[0m\u001b[0;34m=\u001b[0m\u001b[0;34m-\u001b[0m\u001b[0;36m1\u001b[0m\u001b[0;34m,\u001b[0m\u001b[0;34m\u001b[0m\u001b[0m\n\u001b[1;32m     17\u001b[0m             random_state=None, verbose=0, warm_start=False, class_weight=None)\n\u001b[0;32m---> 18\u001b[0;31m         \u001b[0mscore_cv\u001b[0m \u001b[0;34m=\u001b[0m \u001b[0mcross_validation\u001b[0m\u001b[0;34m.\u001b[0m\u001b[0mcross_val_score\u001b[0m\u001b[0;34m(\u001b[0m\u001b[0mrfc\u001b[0m\u001b[0;34m,\u001b[0m \u001b[0mX_train\u001b[0m\u001b[0;34m,\u001b[0m \u001b[0my_train\u001b[0m\u001b[0;34m,\u001b[0m \u001b[0mcv\u001b[0m\u001b[0;34m=\u001b[0m\u001b[0;36m10\u001b[0m\u001b[0;34m,\u001b[0m \u001b[0mscoring\u001b[0m\u001b[0;34m=\u001b[0m\u001b[0;34m'accuracy'\u001b[0m\u001b[0;34m)\u001b[0m\u001b[0;34m\u001b[0m\u001b[0m\n\u001b[0m\u001b[1;32m     19\u001b[0m         \u001b[0mvalue_of_next_point\u001b[0m \u001b[0;34m=\u001b[0m  \u001b[0mnp\u001b[0m\u001b[0;34m.\u001b[0m\u001b[0mmean\u001b[0m\u001b[0;34m(\u001b[0m\u001b[0mscore_cv\u001b[0m\u001b[0;34m)\u001b[0m\u001b[0;34m\u001b[0m\u001b[0m\n\u001b[1;32m     20\u001b[0m         \u001b[0;32mif\u001b[0m \u001b[0mvalue_of_next_point\u001b[0m \u001b[0;34m>\u001b[0m \u001b[0mbest_point_value\u001b[0m\u001b[0;34m:\u001b[0m\u001b[0;34m\u001b[0m\u001b[0m\n",
        "\u001b[0;32m/home/gordana/.local/lib/python2.7/site-packages/sklearn/cross_validation.pyc\u001b[0m in \u001b[0;36mcross_val_score\u001b[0;34m(estimator, X, y, scoring, cv, n_jobs, verbose, fit_params, pre_dispatch)\u001b[0m\n\u001b[1;32m   1359\u001b[0m                                               \u001b[0mtrain\u001b[0m\u001b[0;34m,\u001b[0m \u001b[0mtest\u001b[0m\u001b[0;34m,\u001b[0m \u001b[0mverbose\u001b[0m\u001b[0;34m,\u001b[0m \u001b[0mNone\u001b[0m\u001b[0;34m,\u001b[0m\u001b[0;34m\u001b[0m\u001b[0m\n\u001b[1;32m   1360\u001b[0m                                               fit_params)\n\u001b[0;32m-> 1361\u001b[0;31m                       for train, test in cv)\n\u001b[0m\u001b[1;32m   1362\u001b[0m     \u001b[0;32mreturn\u001b[0m \u001b[0mnp\u001b[0m\u001b[0;34m.\u001b[0m\u001b[0marray\u001b[0m\u001b[0;34m(\u001b[0m\u001b[0mscores\u001b[0m\u001b[0;34m)\u001b[0m\u001b[0;34m[\u001b[0m\u001b[0;34m:\u001b[0m\u001b[0;34m,\u001b[0m \u001b[0;36m0\u001b[0m\u001b[0;34m]\u001b[0m\u001b[0;34m\u001b[0m\u001b[0m\n\u001b[1;32m   1363\u001b[0m \u001b[0;34m\u001b[0m\u001b[0m\n",
        "\u001b[0;32m/home/gordana/.local/lib/python2.7/site-packages/sklearn/externals/joblib/parallel.pyc\u001b[0m in \u001b[0;36m__call__\u001b[0;34m(self, iterable)\u001b[0m\n\u001b[1;32m    657\u001b[0m             \u001b[0mself\u001b[0m\u001b[0;34m.\u001b[0m\u001b[0m_iterating\u001b[0m \u001b[0;34m=\u001b[0m \u001b[0mTrue\u001b[0m\u001b[0;34m\u001b[0m\u001b[0m\n\u001b[1;32m    658\u001b[0m             \u001b[0;32mfor\u001b[0m \u001b[0mfunction\u001b[0m\u001b[0;34m,\u001b[0m \u001b[0margs\u001b[0m\u001b[0;34m,\u001b[0m \u001b[0mkwargs\u001b[0m \u001b[0;32min\u001b[0m \u001b[0miterable\u001b[0m\u001b[0;34m:\u001b[0m\u001b[0;34m\u001b[0m\u001b[0m\n\u001b[0;32m--> 659\u001b[0;31m                 \u001b[0mself\u001b[0m\u001b[0;34m.\u001b[0m\u001b[0mdispatch\u001b[0m\u001b[0;34m(\u001b[0m\u001b[0mfunction\u001b[0m\u001b[0;34m,\u001b[0m \u001b[0margs\u001b[0m\u001b[0;34m,\u001b[0m \u001b[0mkwargs\u001b[0m\u001b[0;34m)\u001b[0m\u001b[0;34m\u001b[0m\u001b[0m\n\u001b[0m\u001b[1;32m    660\u001b[0m \u001b[0;34m\u001b[0m\u001b[0m\n\u001b[1;32m    661\u001b[0m             \u001b[0;32mif\u001b[0m \u001b[0mpre_dispatch\u001b[0m \u001b[0;34m==\u001b[0m \u001b[0;34m\"all\"\u001b[0m \u001b[0;32mor\u001b[0m \u001b[0mn_jobs\u001b[0m \u001b[0;34m==\u001b[0m \u001b[0;36m1\u001b[0m\u001b[0;34m:\u001b[0m\u001b[0;34m\u001b[0m\u001b[0m\n",
        "\u001b[0;32m/home/gordana/.local/lib/python2.7/site-packages/sklearn/externals/joblib/parallel.pyc\u001b[0m in \u001b[0;36mdispatch\u001b[0;34m(self, func, args, kwargs)\u001b[0m\n\u001b[1;32m    404\u001b[0m         \"\"\"\n\u001b[1;32m    405\u001b[0m         \u001b[0;32mif\u001b[0m \u001b[0mself\u001b[0m\u001b[0;34m.\u001b[0m\u001b[0m_pool\u001b[0m \u001b[0;32mis\u001b[0m \u001b[0mNone\u001b[0m\u001b[0;34m:\u001b[0m\u001b[0;34m\u001b[0m\u001b[0m\n\u001b[0;32m--> 406\u001b[0;31m             \u001b[0mjob\u001b[0m \u001b[0;34m=\u001b[0m \u001b[0mImmediateApply\u001b[0m\u001b[0;34m(\u001b[0m\u001b[0mfunc\u001b[0m\u001b[0;34m,\u001b[0m \u001b[0margs\u001b[0m\u001b[0;34m,\u001b[0m \u001b[0mkwargs\u001b[0m\u001b[0;34m)\u001b[0m\u001b[0;34m\u001b[0m\u001b[0m\n\u001b[0m\u001b[1;32m    407\u001b[0m             \u001b[0mindex\u001b[0m \u001b[0;34m=\u001b[0m \u001b[0mlen\u001b[0m\u001b[0;34m(\u001b[0m\u001b[0mself\u001b[0m\u001b[0;34m.\u001b[0m\u001b[0m_jobs\u001b[0m\u001b[0;34m)\u001b[0m\u001b[0;34m\u001b[0m\u001b[0m\n\u001b[1;32m    408\u001b[0m             \u001b[0;32mif\u001b[0m \u001b[0;32mnot\u001b[0m \u001b[0m_verbosity_filter\u001b[0m\u001b[0;34m(\u001b[0m\u001b[0mindex\u001b[0m\u001b[0;34m,\u001b[0m \u001b[0mself\u001b[0m\u001b[0;34m.\u001b[0m\u001b[0mverbose\u001b[0m\u001b[0;34m)\u001b[0m\u001b[0;34m:\u001b[0m\u001b[0;34m\u001b[0m\u001b[0m\n",
        "\u001b[0;32m/home/gordana/.local/lib/python2.7/site-packages/sklearn/externals/joblib/parallel.pyc\u001b[0m in \u001b[0;36m__init__\u001b[0;34m(self, func, args, kwargs)\u001b[0m\n\u001b[1;32m    138\u001b[0m         \u001b[0;31m# Don't delay the application, to avoid keeping the input\u001b[0m\u001b[0;34m\u001b[0m\u001b[0;34m\u001b[0m\u001b[0m\n\u001b[1;32m    139\u001b[0m         \u001b[0;31m# arguments in memory\u001b[0m\u001b[0;34m\u001b[0m\u001b[0;34m\u001b[0m\u001b[0m\n\u001b[0;32m--> 140\u001b[0;31m         \u001b[0mself\u001b[0m\u001b[0;34m.\u001b[0m\u001b[0mresults\u001b[0m \u001b[0;34m=\u001b[0m \u001b[0mfunc\u001b[0m\u001b[0;34m(\u001b[0m\u001b[0;34m*\u001b[0m\u001b[0margs\u001b[0m\u001b[0;34m,\u001b[0m \u001b[0;34m**\u001b[0m\u001b[0mkwargs\u001b[0m\u001b[0;34m)\u001b[0m\u001b[0;34m\u001b[0m\u001b[0m\n\u001b[0m\u001b[1;32m    141\u001b[0m \u001b[0;34m\u001b[0m\u001b[0m\n\u001b[1;32m    142\u001b[0m     \u001b[0;32mdef\u001b[0m \u001b[0mget\u001b[0m\u001b[0;34m(\u001b[0m\u001b[0mself\u001b[0m\u001b[0;34m)\u001b[0m\u001b[0;34m:\u001b[0m\u001b[0;34m\u001b[0m\u001b[0m\n",
        "\u001b[0;32m/home/gordana/.local/lib/python2.7/site-packages/sklearn/cross_validation.pyc\u001b[0m in \u001b[0;36m_fit_and_score\u001b[0;34m(estimator, X, y, scorer, train, test, verbose, parameters, fit_params, return_train_score, return_parameters, error_score)\u001b[0m\n\u001b[1;32m   1457\u001b[0m             \u001b[0mestimator\u001b[0m\u001b[0;34m.\u001b[0m\u001b[0mfit\u001b[0m\u001b[0;34m(\u001b[0m\u001b[0mX_train\u001b[0m\u001b[0;34m,\u001b[0m \u001b[0;34m**\u001b[0m\u001b[0mfit_params\u001b[0m\u001b[0;34m)\u001b[0m\u001b[0;34m\u001b[0m\u001b[0m\n\u001b[1;32m   1458\u001b[0m         \u001b[0;32melse\u001b[0m\u001b[0;34m:\u001b[0m\u001b[0;34m\u001b[0m\u001b[0m\n\u001b[0;32m-> 1459\u001b[0;31m             \u001b[0mestimator\u001b[0m\u001b[0;34m.\u001b[0m\u001b[0mfit\u001b[0m\u001b[0;34m(\u001b[0m\u001b[0mX_train\u001b[0m\u001b[0;34m,\u001b[0m \u001b[0my_train\u001b[0m\u001b[0;34m,\u001b[0m \u001b[0;34m**\u001b[0m\u001b[0mfit_params\u001b[0m\u001b[0;34m)\u001b[0m\u001b[0;34m\u001b[0m\u001b[0m\n\u001b[0m\u001b[1;32m   1460\u001b[0m \u001b[0;34m\u001b[0m\u001b[0m\n\u001b[1;32m   1461\u001b[0m     \u001b[0;32mexcept\u001b[0m \u001b[0mException\u001b[0m \u001b[0;32mas\u001b[0m \u001b[0me\u001b[0m\u001b[0;34m:\u001b[0m\u001b[0;34m\u001b[0m\u001b[0m\n",
        "\u001b[0;32m/home/gordana/.local/lib/python2.7/site-packages/sklearn/ensemble/forest.pyc\u001b[0m in \u001b[0;36mfit\u001b[0;34m(self, X, y, sample_weight)\u001b[0m\n\u001b[1;32m    271\u001b[0m                     \u001b[0mt\u001b[0m\u001b[0;34m,\u001b[0m \u001b[0mself\u001b[0m\u001b[0;34m,\u001b[0m \u001b[0mX\u001b[0m\u001b[0;34m,\u001b[0m \u001b[0my\u001b[0m\u001b[0;34m,\u001b[0m \u001b[0msample_weight\u001b[0m\u001b[0;34m,\u001b[0m \u001b[0mi\u001b[0m\u001b[0;34m,\u001b[0m \u001b[0mlen\u001b[0m\u001b[0;34m(\u001b[0m\u001b[0mtrees\u001b[0m\u001b[0;34m)\u001b[0m\u001b[0;34m,\u001b[0m\u001b[0;34m\u001b[0m\u001b[0m\n\u001b[1;32m    272\u001b[0m                     verbose=self.verbose, class_weight=self.class_weight)\n\u001b[0;32m--> 273\u001b[0;31m                 for i, t in enumerate(trees))\n\u001b[0m\u001b[1;32m    274\u001b[0m \u001b[0;34m\u001b[0m\u001b[0m\n\u001b[1;32m    275\u001b[0m             \u001b[0;31m# Collect newly grown trees\u001b[0m\u001b[0;34m\u001b[0m\u001b[0;34m\u001b[0m\u001b[0m\n",
        "\u001b[0;32m/home/gordana/.local/lib/python2.7/site-packages/sklearn/externals/joblib/parallel.pyc\u001b[0m in \u001b[0;36m__call__\u001b[0;34m(self, iterable)\u001b[0m\n\u001b[1;32m    664\u001b[0m                 \u001b[0;31m# consumption.\u001b[0m\u001b[0;34m\u001b[0m\u001b[0;34m\u001b[0m\u001b[0m\n\u001b[1;32m    665\u001b[0m                 \u001b[0mself\u001b[0m\u001b[0;34m.\u001b[0m\u001b[0m_iterating\u001b[0m \u001b[0;34m=\u001b[0m \u001b[0mFalse\u001b[0m\u001b[0;34m\u001b[0m\u001b[0m\n\u001b[0;32m--> 666\u001b[0;31m             \u001b[0mself\u001b[0m\u001b[0;34m.\u001b[0m\u001b[0mretrieve\u001b[0m\u001b[0;34m(\u001b[0m\u001b[0;34m)\u001b[0m\u001b[0;34m\u001b[0m\u001b[0m\n\u001b[0m\u001b[1;32m    667\u001b[0m             \u001b[0;31m# Make sure that we get a last message telling us we are done\u001b[0m\u001b[0;34m\u001b[0m\u001b[0;34m\u001b[0m\u001b[0m\n\u001b[1;32m    668\u001b[0m             \u001b[0melapsed_time\u001b[0m \u001b[0;34m=\u001b[0m \u001b[0mtime\u001b[0m\u001b[0;34m.\u001b[0m\u001b[0mtime\u001b[0m\u001b[0;34m(\u001b[0m\u001b[0;34m)\u001b[0m \u001b[0;34m-\u001b[0m \u001b[0mself\u001b[0m\u001b[0;34m.\u001b[0m\u001b[0m_start_time\u001b[0m\u001b[0;34m\u001b[0m\u001b[0m\n",
        "\u001b[0;32m/home/gordana/.local/lib/python2.7/site-packages/sklearn/externals/joblib/parallel.pyc\u001b[0m in \u001b[0;36mretrieve\u001b[0;34m(self)\u001b[0m\n\u001b[1;32m    516\u001b[0m                 \u001b[0mself\u001b[0m\u001b[0;34m.\u001b[0m\u001b[0m_lock\u001b[0m\u001b[0;34m.\u001b[0m\u001b[0mrelease\u001b[0m\u001b[0;34m(\u001b[0m\u001b[0;34m)\u001b[0m\u001b[0;34m\u001b[0m\u001b[0m\n\u001b[1;32m    517\u001b[0m             \u001b[0;32mtry\u001b[0m\u001b[0;34m:\u001b[0m\u001b[0;34m\u001b[0m\u001b[0m\n\u001b[0;32m--> 518\u001b[0;31m                 \u001b[0mself\u001b[0m\u001b[0;34m.\u001b[0m\u001b[0m_output\u001b[0m\u001b[0;34m.\u001b[0m\u001b[0mappend\u001b[0m\u001b[0;34m(\u001b[0m\u001b[0mjob\u001b[0m\u001b[0;34m.\u001b[0m\u001b[0mget\u001b[0m\u001b[0;34m(\u001b[0m\u001b[0;34m)\u001b[0m\u001b[0;34m)\u001b[0m\u001b[0;34m\u001b[0m\u001b[0m\n\u001b[0m\u001b[1;32m    519\u001b[0m             \u001b[0;32mexcept\u001b[0m \u001b[0mtuple\u001b[0m\u001b[0;34m(\u001b[0m\u001b[0mself\u001b[0m\u001b[0;34m.\u001b[0m\u001b[0mexceptions\u001b[0m\u001b[0;34m)\u001b[0m \u001b[0;32mas\u001b[0m \u001b[0mexception\u001b[0m\u001b[0;34m:\u001b[0m\u001b[0;34m\u001b[0m\u001b[0m\n\u001b[1;32m    520\u001b[0m                 \u001b[0;32mtry\u001b[0m\u001b[0;34m:\u001b[0m\u001b[0;34m\u001b[0m\u001b[0m\n",
        "\u001b[0;32m/usr/lib/python2.7/multiprocessing/pool.pyc\u001b[0m in \u001b[0;36mget\u001b[0;34m(self, timeout)\u001b[0m\n\u001b[1;32m    550\u001b[0m \u001b[0;34m\u001b[0m\u001b[0m\n\u001b[1;32m    551\u001b[0m     \u001b[0;32mdef\u001b[0m \u001b[0mget\u001b[0m\u001b[0;34m(\u001b[0m\u001b[0mself\u001b[0m\u001b[0;34m,\u001b[0m \u001b[0mtimeout\u001b[0m\u001b[0;34m=\u001b[0m\u001b[0mNone\u001b[0m\u001b[0;34m)\u001b[0m\u001b[0;34m:\u001b[0m\u001b[0;34m\u001b[0m\u001b[0m\n\u001b[0;32m--> 552\u001b[0;31m         \u001b[0mself\u001b[0m\u001b[0;34m.\u001b[0m\u001b[0mwait\u001b[0m\u001b[0;34m(\u001b[0m\u001b[0mtimeout\u001b[0m\u001b[0;34m)\u001b[0m\u001b[0;34m\u001b[0m\u001b[0m\n\u001b[0m\u001b[1;32m    553\u001b[0m         \u001b[0;32mif\u001b[0m \u001b[0;32mnot\u001b[0m \u001b[0mself\u001b[0m\u001b[0;34m.\u001b[0m\u001b[0m_ready\u001b[0m\u001b[0;34m:\u001b[0m\u001b[0;34m\u001b[0m\u001b[0m\n\u001b[1;32m    554\u001b[0m             \u001b[0;32mraise\u001b[0m \u001b[0mTimeoutError\u001b[0m\u001b[0;34m\u001b[0m\u001b[0m\n",
        "\u001b[0;32m/usr/lib/python2.7/multiprocessing/pool.pyc\u001b[0m in \u001b[0;36mwait\u001b[0;34m(self, timeout)\u001b[0m\n\u001b[1;32m    545\u001b[0m         \u001b[0;32mtry\u001b[0m\u001b[0;34m:\u001b[0m\u001b[0;34m\u001b[0m\u001b[0m\n\u001b[1;32m    546\u001b[0m             \u001b[0;32mif\u001b[0m \u001b[0;32mnot\u001b[0m \u001b[0mself\u001b[0m\u001b[0;34m.\u001b[0m\u001b[0m_ready\u001b[0m\u001b[0;34m:\u001b[0m\u001b[0;34m\u001b[0m\u001b[0m\n\u001b[0;32m--> 547\u001b[0;31m                 \u001b[0mself\u001b[0m\u001b[0;34m.\u001b[0m\u001b[0m_cond\u001b[0m\u001b[0;34m.\u001b[0m\u001b[0mwait\u001b[0m\u001b[0;34m(\u001b[0m\u001b[0mtimeout\u001b[0m\u001b[0;34m)\u001b[0m\u001b[0;34m\u001b[0m\u001b[0m\n\u001b[0m\u001b[1;32m    548\u001b[0m         \u001b[0;32mfinally\u001b[0m\u001b[0;34m:\u001b[0m\u001b[0;34m\u001b[0m\u001b[0m\n\u001b[1;32m    549\u001b[0m             \u001b[0mself\u001b[0m\u001b[0;34m.\u001b[0m\u001b[0m_cond\u001b[0m\u001b[0;34m.\u001b[0m\u001b[0mrelease\u001b[0m\u001b[0;34m(\u001b[0m\u001b[0;34m)\u001b[0m\u001b[0;34m\u001b[0m\u001b[0m\n",
        "\u001b[0;32m/usr/lib/python2.7/threading.pyc\u001b[0m in \u001b[0;36mwait\u001b[0;34m(self, timeout)\u001b[0m\n\u001b[1;32m    337\u001b[0m         \u001b[0;32mtry\u001b[0m\u001b[0;34m:\u001b[0m    \u001b[0;31m# restore state no matter what (e.g., KeyboardInterrupt)\u001b[0m\u001b[0;34m\u001b[0m\u001b[0m\n\u001b[1;32m    338\u001b[0m             \u001b[0;32mif\u001b[0m \u001b[0mtimeout\u001b[0m \u001b[0;32mis\u001b[0m \u001b[0mNone\u001b[0m\u001b[0;34m:\u001b[0m\u001b[0;34m\u001b[0m\u001b[0m\n\u001b[0;32m--> 339\u001b[0;31m                 \u001b[0mwaiter\u001b[0m\u001b[0;34m.\u001b[0m\u001b[0macquire\u001b[0m\u001b[0;34m(\u001b[0m\u001b[0;34m)\u001b[0m\u001b[0;34m\u001b[0m\u001b[0m\n\u001b[0m\u001b[1;32m    340\u001b[0m                 \u001b[0;32mif\u001b[0m \u001b[0m__debug__\u001b[0m\u001b[0;34m:\u001b[0m\u001b[0;34m\u001b[0m\u001b[0m\n\u001b[1;32m    341\u001b[0m                     \u001b[0mself\u001b[0m\u001b[0;34m.\u001b[0m\u001b[0m_note\u001b[0m\u001b[0;34m(\u001b[0m\u001b[0;34m\"%s.wait(): got it\"\u001b[0m\u001b[0;34m,\u001b[0m \u001b[0mself\u001b[0m\u001b[0;34m)\u001b[0m\u001b[0;34m\u001b[0m\u001b[0m\n",
        "\u001b[0;31mKeyboardInterrupt\u001b[0m: "
       ]
      }
     ],
     "prompt_number": 16
    },
    {
     "cell_type": "code",
     "collapsed": false,
     "input": [
      "    rfc_moe = RandomForestClassifier(n_estimators=859, criterion='gini', \n",
      "            max_depth=10, min_samples_split=2, min_samples_leaf=3, min_weight_fraction_leaf=0.0,            \n",
      "            max_features=17, max_leaf_nodes=None, bootstrap=True, oob_score=False, n_jobs=1, \n",
      "            random_state=None, verbose=0, warm_start=False, class_weight=None)\n",
      "    rfc_moe.fit(X_train, y_train)\n",
      "    y_pred_rfc_moe = rfc_moe.predict(X_test)\n",
      "    print 'MOE RFC Metrics: '\n",
      "    print 'Best n_estimators: ', n_estimators\n",
      "    print 'Best max_features: ', max_features\n",
      "    print 'Best max_depth: ', max_depth\n",
      "    print 'Best min_samples_leaf: ', min_samples_leaf\n",
      "    rfc_moe_acc, rfc_moe_prec, rfc_moe_rec, rfc_moe_cm, rfc_moe_cm_full = get_scores(y_test,y_pred_rfc_moe)"
     ],
     "language": "python",
     "metadata": {},
     "outputs": [
      {
       "output_type": "stream",
       "stream": "stdout",
       "text": [
        "MOE RFC Metrics: \n",
        "Best n_estimators:  859\n",
        "Best max_features:  17\n",
        "Best max_depth:  10\n",
        "Best min_samples_leaf:  3\n",
        "Accuracy:  92.84\n",
        "Precision:  93.0\n",
        "Recall:  92.45\n",
        "Macro Precision:  93.01\n",
        "Macro Recall:  92.84\n",
        "Confusion Matrix (Activities: Walking, Upstairs, Downstairs, Standing, Sitting, Laying\n",
        "[[482   4  10   0   0   0]\n",
        " [ 34 431   6   0   0   0]\n",
        " [ 26  44 350   0   0   0]\n",
        " [  0   0   0 431  60   0]\n",
        " [  0   0   0  27 505   0]\n",
        " [  0   0   0   0   0 537]]\n",
        "Confusion Matrix & Scores (Actual Activities & Precision vs. Predicted Activies & Recall; Total Accuracy)\n",
        "[[ 482.      4.     10.      0.      0.      0.     97.18]\n",
        " [  34.    431.      6.      0.      0.      0.     91.51]\n",
        " [  26.     44.    350.      0.      0.      0.     83.33]\n",
        " [   0.      0.      0.    431.     60.      0.     87.78]\n",
        " [   0.      0.      0.     27.    505.      0.     94.92]\n",
        " [   0.      0.      0.      0.      0.    537.    100.  ]\n",
        " [  88.93   89.98   95.63   94.1    89.38  100.     92.84]]\n"
       ]
      }
     ],
     "prompt_number": 17
    },
    {
     "cell_type": "code",
     "collapsed": false,
     "input": [
      "    # Get MOE best ABC Model  & it's metrics\n",
      "    abc_moe_param, abc_moe_accuracy = do_abc_MOE(num_points_to_sample, X_train, y_train)\n",
      "    n_estimators = abc_moe_param[0]\n",
      "    learning_rate = abc_moe_param[1] \n",
      "    abc = AdaBoostClassifier((DecisionTreeClassifier(max_depth=2)),n_estimators=n_estimators, learning_rate=learning_rate)\n",
      "    abc_moe.fit(X_train, y_train)\n",
      "    y_pred_abc_moe = abc_moe.predict(X_test)\n",
      "    print 'MOE ABC Metrics: '\n",
      "    print 'Best n_estimators: ', n_estimators\n",
      "    print 'Best learning_rate: ', learning_rate\n",
      "    abc_moe_acc, abc_moe_prec, abc_moe_rec, abc_moe_cm, abc_moe_cm_full = get_scores(y_test,y_pred_abc_moe)\n"
     ],
     "language": "python",
     "metadata": {},
     "outputs": [],
     "prompt_number": "*"
    },
    {
     "cell_type": "code",
     "collapsed": false,
     "input": [
      "    # Boosting SVC, RFC & ABC\n",
      "    y_all = np.clumn_stack((y_pred_svc_linear_moe, y_pred_svc_rbf_moe, y_pred_rfc_moe, y_pred_abc_moe))\n",
      "    y_pred_all = (stats.mode(y_all)[0][0]).astype(int)\n",
      "    print 'MOE All Metrics: '\n",
      "    all_moe_acc, all_moe_prec, all_moe_rec, all_moe_cm, all_moe_cm_full = get_scores(y_test,y_pred_all)"
     ],
     "language": "python",
     "metadata": {},
     "outputs": []
    },
    {
     "cell_type": "code",
     "collapsed": false,
     "input": [],
     "language": "python",
     "metadata": {},
     "outputs": []
    }
   ],
   "metadata": {}
  }
 ]
}